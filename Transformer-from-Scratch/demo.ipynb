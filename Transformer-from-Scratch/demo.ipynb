{
 "cells": [
  {
   "cell_type": "markdown",
   "metadata": {},
   "source": [
    "# Demo\n",
    "Here, I will show the example of how each module of the transformer works."
   ]
  },
  {
   "cell_type": "code",
   "execution_count": 1,
   "metadata": {},
   "outputs": [],
   "source": [
    "import torch"
   ]
  },
  {
   "cell_type": "code",
   "execution_count": 12,
   "metadata": {},
   "outputs": [],
   "source": [
    "from modules.input_embedding import InputEmbeddings\n",
    "from modules.positional_encoding import PositionalEncoding\n",
    "from modules.feed_forward import FeedForwardBlock"
   ]
  },
  {
   "cell_type": "markdown",
   "metadata": {},
   "source": [
    "## 1. InputEmbeddings"
   ]
  },
  {
   "cell_type": "code",
   "execution_count": 3,
   "metadata": {},
   "outputs": [],
   "source": [
    "tokens = [\"My\", \"name\", \"is\", \"Suraj\", \".\"]\n",
    "token_with_ids = torch.tensor([11, 34, 56, 345, 342]) #consider\n",
    "seq_len = len(tokens)\n",
    "d_model = 512\n",
    "vocab_size = 1000 #assume"
   ]
  },
  {
   "cell_type": "code",
   "execution_count": 4,
   "metadata": {},
   "outputs": [
    {
     "data": {
      "text/plain": [
       "torch.Size([1, 5])"
      ]
     },
     "execution_count": 4,
     "metadata": {},
     "output_type": "execute_result"
    }
   ],
   "source": [
    "token_with_ids.unsqueeze(dim=0).shape"
   ]
  },
  {
   "cell_type": "code",
   "execution_count": 5,
   "metadata": {},
   "outputs": [],
   "source": [
    "in_emb = InputEmbeddings(d_model,vocab_size)\n",
    "out = in_emb(token_with_ids.unsqueeze(dim=0))"
   ]
  },
  {
   "cell_type": "code",
   "execution_count": 6,
   "metadata": {},
   "outputs": [
    {
     "name": "stdout",
     "output_type": "stream",
     "text": [
      "tensor([[[ 35.8187, -27.8338,  27.5632,  ...,  48.8609,  27.4723, -26.5341],\n",
      "         [  2.5645,  12.6105,  22.4665,  ...,   8.3939,   0.7163,   4.3543],\n",
      "         [  0.1775,  13.2811,   7.6797,  ...,   0.2338,  39.8202,   1.0296],\n",
      "         [  4.5432, -34.4606,   0.7824,  ...,   8.7938,  57.0339,  28.3806],\n",
      "         [  0.8979,  45.1155,   8.7601,  ...,  16.7152,   1.7760,   2.5427]]],\n",
      "       grad_fn=<MulBackward0>)\n"
     ]
    }
   ],
   "source": [
    "print(out)"
   ]
  },
  {
   "cell_type": "code",
   "execution_count": 7,
   "metadata": {},
   "outputs": [
    {
     "name": "stdout",
     "output_type": "stream",
     "text": [
      "torch.Size([1, 5, 512])\n"
     ]
    }
   ],
   "source": [
    "print(out.shape)"
   ]
  },
  {
   "cell_type": "markdown",
   "metadata": {},
   "source": [
    "## 2. Positional Embeddings"
   ]
  },
  {
   "cell_type": "code",
   "execution_count": 8,
   "metadata": {},
   "outputs": [],
   "source": [
    "po_emb = PositionalEncoding(d_model, seq_len, 0.4)\n",
    "out_p = po_emb(out)"
   ]
  },
  {
   "cell_type": "code",
   "execution_count": 9,
   "metadata": {},
   "outputs": [
    {
     "name": "stdout",
     "output_type": "stream",
     "text": [
      "tensor([[[ 59.6979, -44.7229,  45.9387,  ...,   0.0000,   0.0000, -42.5568],\n",
      "         [  5.6766,   0.0000,  38.8138,  ...,  15.6565,   1.1940,   0.0000],\n",
      "         [  0.0000,   0.0000,  14.3601,  ...,   0.0000,  66.3673,   3.3827],\n",
      "         [  7.8071, -59.0844,   1.7125,  ...,  16.3229,   0.0000,  48.9676],\n",
      "         [  0.0000,  74.1031,  13.5049,  ...,  29.5253,   0.0000,   5.9045]]],\n",
      "       grad_fn=<MulBackward0>)\n"
     ]
    }
   ],
   "source": [
    "print(out_p)"
   ]
  },
  {
   "cell_type": "code",
   "execution_count": 10,
   "metadata": {},
   "outputs": [
    {
     "name": "stdout",
     "output_type": "stream",
     "text": [
      "torch.Size([1, 5, 512])\n"
     ]
    }
   ],
   "source": [
    "print(out_p.shape)"
   ]
  },
  {
   "cell_type": "markdown",
   "metadata": {},
   "source": [
    "## 3. Feed Forward"
   ]
  },
  {
   "cell_type": "code",
   "execution_count": 11,
   "metadata": {},
   "outputs": [],
   "source": [
    "d_diff = 1024"
   ]
  },
  {
   "cell_type": "code",
   "execution_count": 13,
   "metadata": {},
   "outputs": [
    {
     "name": "stdout",
     "output_type": "stream",
     "text": [
      "FeedForwardBlock(\n",
      "  (linear_1): Linear(in_features=512, out_features=1024, bias=True)\n",
      "  (dropout): Dropout(p=0.4, inplace=False)\n",
      "  (linear_2): Linear(in_features=1024, out_features=512, bias=True)\n",
      ")\n"
     ]
    }
   ],
   "source": [
    "ff = FeedForwardBlock(d_model, d_diff, 0.4)\n",
    "print(ff)"
   ]
  },
  {
   "cell_type": "code",
   "execution_count": 14,
   "metadata": {},
   "outputs": [],
   "source": [
    "ff_out = ff(out_p)"
   ]
  },
  {
   "cell_type": "code",
   "execution_count": 15,
   "metadata": {},
   "outputs": [
    {
     "name": "stdout",
     "output_type": "stream",
     "text": [
      "tensor([[[ -2.3896,  13.5402,   3.5408,  ...,   1.9613,   1.6081,  -7.8594],\n",
      "         [ -9.2129,  -3.0078,  -4.7456,  ..., -10.6353,   2.4719, -10.5194],\n",
      "         [  3.2546,   0.5504, -13.0712,  ..., -12.2775,  -8.0100,  16.2558],\n",
      "         [  1.8906, -11.6131, -17.4832,  ...,   6.3097,   5.8341,  -9.1153],\n",
      "         [  9.0015,   5.9390,  -5.2111,  ..., -10.1641,  16.9615,  -9.2007]]],\n",
      "       grad_fn=<ViewBackward0>)\n"
     ]
    }
   ],
   "source": [
    "print(ff_out)"
   ]
  },
  {
   "cell_type": "code",
   "execution_count": 16,
   "metadata": {},
   "outputs": [
    {
     "name": "stdout",
     "output_type": "stream",
     "text": [
      "torch.Size([1, 5, 512])\n"
     ]
    }
   ],
   "source": [
    "print(ff_out.shape)"
   ]
  },
  {
   "cell_type": "code",
   "execution_count": null,
   "metadata": {},
   "outputs": [],
   "source": []
  }
 ],
 "metadata": {
  "kernelspec": {
   "display_name": "base",
   "language": "python",
   "name": "python3"
  },
  "language_info": {
   "codemirror_mode": {
    "name": "ipython",
    "version": 3
   },
   "file_extension": ".py",
   "mimetype": "text/x-python",
   "name": "python",
   "nbconvert_exporter": "python",
   "pygments_lexer": "ipython3",
   "version": "3.11.5"
  }
 },
 "nbformat": 4,
 "nbformat_minor": 2
}
