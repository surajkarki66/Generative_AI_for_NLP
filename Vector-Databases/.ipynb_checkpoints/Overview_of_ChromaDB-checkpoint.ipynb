{
 "cells": [
  {
   "cell_type": "markdown",
   "metadata": {
    "id": "c5Ej1IrtZime"
   },
   "source": [
    "# Overview of an Open Source Vector Database\n",
    "Chroma is the open-source embedding database. In the current digital era, handling data intelligently and effectively is essential. Here, we examine what ChromaDB, an open-source vector embedding database that enables semantic search, has to offer. Documents can be stored in ChromaDB as dense vector embeddings, which are produced using transformer-based language models and enable sophisticated semantic retrieval of documents. This blog post will show you how to build and save embeddings in ChromaDB and how to utilize user queries to obtain documents that match semantically."
   ]
  },
  {
   "cell_type": "markdown",
   "metadata": {
    "id": "XMMfPopGd9ik"
   },
   "source": [
    "## 1. Installation"
   ]
  },
  {
   "cell_type": "code",
   "execution_count": null,
   "metadata": {},
   "outputs": [
    {
     "name": "stdout",
     "output_type": "stream",
     "text": [
      "Collecting numpy==1.22\n",
      "  Downloading numpy-1.22.0.zip (11.3 MB)\n",
      "\u001b[2K     \u001b[38;2;114;156;31m━━━━━━━━━━━━━━━━━━━━━━━━━━━━━━━━━━━━━━━━\u001b[0m \u001b[32m11.3/11.3 MB\u001b[0m \u001b[31m7.8 MB/s\u001b[0m eta \u001b[36m0:00:00\u001b[0m0m eta \u001b[36m0:00:01\u001b[0m0:01\u001b[0m01\u001b[0m\n",
      "\u001b[?25h  Installing build dependencies ... \u001b[?25ldone\n",
      "\u001b[?25h  Getting requirements to build wheel ... \u001b[?25ldone\n",
      "\u001b[?25h  Preparing metadata (pyproject.toml) ... \u001b[?25ldone\n",
      "\u001b[?25hBuilding wheels for collected packages: numpy\n",
      "  Building wheel for numpy (pyproject.toml) ... \u001b[?25l|"
     ]
    }
   ],
   "source": [
    "!pip install numpy==1.22"
   ]
  },
  {
   "cell_type": "code",
   "execution_count": 1,
   "metadata": {
    "colab": {
     "base_uri": "https://localhost:8080/"
    },
    "id": "2ICfss3kZni9",
    "outputId": "0966214c-c074-4393-e2f4-a6f40390a639"
   },
   "outputs": [
    {
     "name": "stdout",
     "output_type": "stream",
     "text": [
      "\u001b[31mERROR: pip's dependency resolver does not currently take into account all the packages that are installed. This behaviour is the source of the following dependency conflicts.\r\n",
      "tables 3.8.0 requires blosc2~=2.0.0, which is not installed.\r\n",
      "tensorflow 2.12.0 requires jax>=0.3.15, which is not installed.\r\n",
      "tensorflow 2.12.0 requires libclang>=13.0.0, which is not installed.\r\n",
      "tensorflow 2.12.0 requires tensorflow-io-gcs-filesystem>=0.23.1; platform_machine != \"arm64\" or platform_system != \"Darwin\", which is not installed.\r\n",
      "numba 0.57.1 requires numpy<1.25,>=1.21, but you have numpy 1.26.4 which is incompatible.\r\n",
      "tensorflow 2.12.0 requires numpy<1.24,>=1.22, but you have numpy 1.26.4 which is incompatible.\r\n",
      "tensorflow 2.12.0 requires wrapt<1.15,>=1.11.0, but you have wrapt 1.16.0 which is incompatible.\u001b[0m\u001b[31m\r\n",
      "\u001b[0m"
     ]
    }
   ],
   "source": [
    "!pip install chromadb -q\n",
    "!pip install sentence-transformers -q"
   ]
  },
  {
   "cell_type": "markdown",
   "metadata": {
    "id": "7YpMqGU9eBtz"
   },
   "source": [
    "Next, we need to connect to ChromaDB and create a collection. By default, ChromaDB uses the Sentence Transformers `all-MiniLM-L6-v2` model to create embeddings."
   ]
  },
  {
   "cell_type": "code",
   "execution_count": null,
   "metadata": {},
   "outputs": [],
   "source": [
    "import chromadb\n",
    "\n",
    "client = chromadb.Client()\n",
    "collection = client.create_collection(\"yt_demo\")"
   ]
  }
 ],
 "metadata": {
  "colab": {
   "provenance": []
  },
  "kernelspec": {
   "display_name": "Python 3 (ipykernel)",
   "language": "python",
   "name": "python3"
  },
  "language_info": {
   "codemirror_mode": {
    "name": "ipython",
    "version": 3
   },
   "file_extension": ".py",
   "mimetype": "text/x-python",
   "name": "python",
   "nbconvert_exporter": "python",
   "pygments_lexer": "ipython3",
   "version": "3.11.5"
  }
 },
 "nbformat": 4,
 "nbformat_minor": 1
}
