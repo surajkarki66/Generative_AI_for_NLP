{
  "nbformat": 4,
  "nbformat_minor": 0,
  "metadata": {
    "colab": {
      "provenance": [],
      "gpuType": "T4"
    },
    "kernelspec": {
      "name": "python3",
      "display_name": "Python 3"
    },
    "language_info": {
      "name": "python"
    },
    "accelerator": "GPU",
    "widgets": {
      "application/vnd.jupyter.widget-state+json": {
        "1c65d12d911d4b55a85fa5067fa1f7cb": {
          "model_module": "@jupyter-widgets/controls",
          "model_name": "HBoxModel",
          "model_module_version": "1.5.0",
          "state": {
            "_dom_classes": [],
            "_model_module": "@jupyter-widgets/controls",
            "_model_module_version": "1.5.0",
            "_model_name": "HBoxModel",
            "_view_count": null,
            "_view_module": "@jupyter-widgets/controls",
            "_view_module_version": "1.5.0",
            "_view_name": "HBoxView",
            "box_style": "",
            "children": [
              "IPY_MODEL_1951e694140d4cc9803131f67a0afa49",
              "IPY_MODEL_5665839057204a83b2913c663193d569",
              "IPY_MODEL_75d78786498e48418670d035abfc753d"
            ],
            "layout": "IPY_MODEL_884d8f1907584c5a94bad7df47974e0e"
          }
        },
        "1951e694140d4cc9803131f67a0afa49": {
          "model_module": "@jupyter-widgets/controls",
          "model_name": "HTMLModel",
          "model_module_version": "1.5.0",
          "state": {
            "_dom_classes": [],
            "_model_module": "@jupyter-widgets/controls",
            "_model_module_version": "1.5.0",
            "_model_name": "HTMLModel",
            "_view_count": null,
            "_view_module": "@jupyter-widgets/controls",
            "_view_module_version": "1.5.0",
            "_view_name": "HTMLView",
            "description": "",
            "description_tooltip": null,
            "layout": "IPY_MODEL_d58141b4c3834068a4c8cccf38552dc8",
            "placeholder": "​",
            "style": "IPY_MODEL_44b878844d1849d8a0b6f3fe05adc927",
            "value": "config.json: 100%"
          }
        },
        "5665839057204a83b2913c663193d569": {
          "model_module": "@jupyter-widgets/controls",
          "model_name": "FloatProgressModel",
          "model_module_version": "1.5.0",
          "state": {
            "_dom_classes": [],
            "_model_module": "@jupyter-widgets/controls",
            "_model_module_version": "1.5.0",
            "_model_name": "FloatProgressModel",
            "_view_count": null,
            "_view_module": "@jupyter-widgets/controls",
            "_view_module_version": "1.5.0",
            "_view_name": "ProgressView",
            "bar_style": "success",
            "description": "",
            "description_tooltip": null,
            "layout": "IPY_MODEL_8341a336d2574da9ba90ec2ce11b28e8",
            "max": 443,
            "min": 0,
            "orientation": "horizontal",
            "style": "IPY_MODEL_afd5030930b6424ead86d35da0fc09dd",
            "value": 443
          }
        },
        "75d78786498e48418670d035abfc753d": {
          "model_module": "@jupyter-widgets/controls",
          "model_name": "HTMLModel",
          "model_module_version": "1.5.0",
          "state": {
            "_dom_classes": [],
            "_model_module": "@jupyter-widgets/controls",
            "_model_module_version": "1.5.0",
            "_model_name": "HTMLModel",
            "_view_count": null,
            "_view_module": "@jupyter-widgets/controls",
            "_view_module_version": "1.5.0",
            "_view_name": "HTMLView",
            "description": "",
            "description_tooltip": null,
            "layout": "IPY_MODEL_c430eff44e12483d8cdaa240392d1bc3",
            "placeholder": "​",
            "style": "IPY_MODEL_5f331374f95c4f249c14c97e0cf85b11",
            "value": " 443/443 [00:00&lt;00:00, 17.9kB/s]"
          }
        },
        "884d8f1907584c5a94bad7df47974e0e": {
          "model_module": "@jupyter-widgets/base",
          "model_name": "LayoutModel",
          "model_module_version": "1.2.0",
          "state": {
            "_model_module": "@jupyter-widgets/base",
            "_model_module_version": "1.2.0",
            "_model_name": "LayoutModel",
            "_view_count": null,
            "_view_module": "@jupyter-widgets/base",
            "_view_module_version": "1.2.0",
            "_view_name": "LayoutView",
            "align_content": null,
            "align_items": null,
            "align_self": null,
            "border": null,
            "bottom": null,
            "display": null,
            "flex": null,
            "flex_flow": null,
            "grid_area": null,
            "grid_auto_columns": null,
            "grid_auto_flow": null,
            "grid_auto_rows": null,
            "grid_column": null,
            "grid_gap": null,
            "grid_row": null,
            "grid_template_areas": null,
            "grid_template_columns": null,
            "grid_template_rows": null,
            "height": null,
            "justify_content": null,
            "justify_items": null,
            "left": null,
            "margin": null,
            "max_height": null,
            "max_width": null,
            "min_height": null,
            "min_width": null,
            "object_fit": null,
            "object_position": null,
            "order": null,
            "overflow": null,
            "overflow_x": null,
            "overflow_y": null,
            "padding": null,
            "right": null,
            "top": null,
            "visibility": null,
            "width": null
          }
        },
        "d58141b4c3834068a4c8cccf38552dc8": {
          "model_module": "@jupyter-widgets/base",
          "model_name": "LayoutModel",
          "model_module_version": "1.2.0",
          "state": {
            "_model_module": "@jupyter-widgets/base",
            "_model_module_version": "1.2.0",
            "_model_name": "LayoutModel",
            "_view_count": null,
            "_view_module": "@jupyter-widgets/base",
            "_view_module_version": "1.2.0",
            "_view_name": "LayoutView",
            "align_content": null,
            "align_items": null,
            "align_self": null,
            "border": null,
            "bottom": null,
            "display": null,
            "flex": null,
            "flex_flow": null,
            "grid_area": null,
            "grid_auto_columns": null,
            "grid_auto_flow": null,
            "grid_auto_rows": null,
            "grid_column": null,
            "grid_gap": null,
            "grid_row": null,
            "grid_template_areas": null,
            "grid_template_columns": null,
            "grid_template_rows": null,
            "height": null,
            "justify_content": null,
            "justify_items": null,
            "left": null,
            "margin": null,
            "max_height": null,
            "max_width": null,
            "min_height": null,
            "min_width": null,
            "object_fit": null,
            "object_position": null,
            "order": null,
            "overflow": null,
            "overflow_x": null,
            "overflow_y": null,
            "padding": null,
            "right": null,
            "top": null,
            "visibility": null,
            "width": null
          }
        },
        "44b878844d1849d8a0b6f3fe05adc927": {
          "model_module": "@jupyter-widgets/controls",
          "model_name": "DescriptionStyleModel",
          "model_module_version": "1.5.0",
          "state": {
            "_model_module": "@jupyter-widgets/controls",
            "_model_module_version": "1.5.0",
            "_model_name": "DescriptionStyleModel",
            "_view_count": null,
            "_view_module": "@jupyter-widgets/base",
            "_view_module_version": "1.2.0",
            "_view_name": "StyleView",
            "description_width": ""
          }
        },
        "8341a336d2574da9ba90ec2ce11b28e8": {
          "model_module": "@jupyter-widgets/base",
          "model_name": "LayoutModel",
          "model_module_version": "1.2.0",
          "state": {
            "_model_module": "@jupyter-widgets/base",
            "_model_module_version": "1.2.0",
            "_model_name": "LayoutModel",
            "_view_count": null,
            "_view_module": "@jupyter-widgets/base",
            "_view_module_version": "1.2.0",
            "_view_name": "LayoutView",
            "align_content": null,
            "align_items": null,
            "align_self": null,
            "border": null,
            "bottom": null,
            "display": null,
            "flex": null,
            "flex_flow": null,
            "grid_area": null,
            "grid_auto_columns": null,
            "grid_auto_flow": null,
            "grid_auto_rows": null,
            "grid_column": null,
            "grid_gap": null,
            "grid_row": null,
            "grid_template_areas": null,
            "grid_template_columns": null,
            "grid_template_rows": null,
            "height": null,
            "justify_content": null,
            "justify_items": null,
            "left": null,
            "margin": null,
            "max_height": null,
            "max_width": null,
            "min_height": null,
            "min_width": null,
            "object_fit": null,
            "object_position": null,
            "order": null,
            "overflow": null,
            "overflow_x": null,
            "overflow_y": null,
            "padding": null,
            "right": null,
            "top": null,
            "visibility": null,
            "width": null
          }
        },
        "afd5030930b6424ead86d35da0fc09dd": {
          "model_module": "@jupyter-widgets/controls",
          "model_name": "ProgressStyleModel",
          "model_module_version": "1.5.0",
          "state": {
            "_model_module": "@jupyter-widgets/controls",
            "_model_module_version": "1.5.0",
            "_model_name": "ProgressStyleModel",
            "_view_count": null,
            "_view_module": "@jupyter-widgets/base",
            "_view_module_version": "1.2.0",
            "_view_name": "StyleView",
            "bar_color": null,
            "description_width": ""
          }
        },
        "c430eff44e12483d8cdaa240392d1bc3": {
          "model_module": "@jupyter-widgets/base",
          "model_name": "LayoutModel",
          "model_module_version": "1.2.0",
          "state": {
            "_model_module": "@jupyter-widgets/base",
            "_model_module_version": "1.2.0",
            "_model_name": "LayoutModel",
            "_view_count": null,
            "_view_module": "@jupyter-widgets/base",
            "_view_module_version": "1.2.0",
            "_view_name": "LayoutView",
            "align_content": null,
            "align_items": null,
            "align_self": null,
            "border": null,
            "bottom": null,
            "display": null,
            "flex": null,
            "flex_flow": null,
            "grid_area": null,
            "grid_auto_columns": null,
            "grid_auto_flow": null,
            "grid_auto_rows": null,
            "grid_column": null,
            "grid_gap": null,
            "grid_row": null,
            "grid_template_areas": null,
            "grid_template_columns": null,
            "grid_template_rows": null,
            "height": null,
            "justify_content": null,
            "justify_items": null,
            "left": null,
            "margin": null,
            "max_height": null,
            "max_width": null,
            "min_height": null,
            "min_width": null,
            "object_fit": null,
            "object_position": null,
            "order": null,
            "overflow": null,
            "overflow_x": null,
            "overflow_y": null,
            "padding": null,
            "right": null,
            "top": null,
            "visibility": null,
            "width": null
          }
        },
        "5f331374f95c4f249c14c97e0cf85b11": {
          "model_module": "@jupyter-widgets/controls",
          "model_name": "DescriptionStyleModel",
          "model_module_version": "1.5.0",
          "state": {
            "_model_module": "@jupyter-widgets/controls",
            "_model_module_version": "1.5.0",
            "_model_name": "DescriptionStyleModel",
            "_view_count": null,
            "_view_module": "@jupyter-widgets/base",
            "_view_module_version": "1.2.0",
            "_view_name": "StyleView",
            "description_width": ""
          }
        },
        "f207b7bee352483c9f5ad86f6f1f7d3d": {
          "model_module": "@jupyter-widgets/controls",
          "model_name": "HBoxModel",
          "model_module_version": "1.5.0",
          "state": {
            "_dom_classes": [],
            "_model_module": "@jupyter-widgets/controls",
            "_model_module_version": "1.5.0",
            "_model_name": "HBoxModel",
            "_view_count": null,
            "_view_module": "@jupyter-widgets/controls",
            "_view_module_version": "1.5.0",
            "_view_name": "HBoxView",
            "box_style": "",
            "children": [
              "IPY_MODEL_fd394e5498d24be993b5c262f1a0e06a",
              "IPY_MODEL_981a2698184f44f18ea6f34dd6ce3781",
              "IPY_MODEL_d08f3fe955814d08a531044e6724d05e"
            ],
            "layout": "IPY_MODEL_5c104adab0884ee6aa28bbe6cc5030ba"
          }
        },
        "fd394e5498d24be993b5c262f1a0e06a": {
          "model_module": "@jupyter-widgets/controls",
          "model_name": "HTMLModel",
          "model_module_version": "1.5.0",
          "state": {
            "_dom_classes": [],
            "_model_module": "@jupyter-widgets/controls",
            "_model_module_version": "1.5.0",
            "_model_name": "HTMLModel",
            "_view_count": null,
            "_view_module": "@jupyter-widgets/controls",
            "_view_module_version": "1.5.0",
            "_view_name": "HTMLView",
            "description": "",
            "description_tooltip": null,
            "layout": "IPY_MODEL_806acecfdb3e4c4083d14fc346b64563",
            "placeholder": "​",
            "style": "IPY_MODEL_468e15fe6a31408da40ce511a89b1368",
            "value": "model.safetensors: 100%"
          }
        },
        "981a2698184f44f18ea6f34dd6ce3781": {
          "model_module": "@jupyter-widgets/controls",
          "model_name": "FloatProgressModel",
          "model_module_version": "1.5.0",
          "state": {
            "_dom_classes": [],
            "_model_module": "@jupyter-widgets/controls",
            "_model_module_version": "1.5.0",
            "_model_name": "FloatProgressModel",
            "_view_count": null,
            "_view_module": "@jupyter-widgets/controls",
            "_view_module_version": "1.5.0",
            "_view_name": "ProgressView",
            "bar_style": "success",
            "description": "",
            "description_tooltip": null,
            "layout": "IPY_MODEL_2691353896d94378b2ffacbafaeebd55",
            "max": 1340622760,
            "min": 0,
            "orientation": "horizontal",
            "style": "IPY_MODEL_bbb743b4fc744e9db800ccaa5e1246f5",
            "value": 1340622760
          }
        },
        "d08f3fe955814d08a531044e6724d05e": {
          "model_module": "@jupyter-widgets/controls",
          "model_name": "HTMLModel",
          "model_module_version": "1.5.0",
          "state": {
            "_dom_classes": [],
            "_model_module": "@jupyter-widgets/controls",
            "_model_module_version": "1.5.0",
            "_model_name": "HTMLModel",
            "_view_count": null,
            "_view_module": "@jupyter-widgets/controls",
            "_view_module_version": "1.5.0",
            "_view_name": "HTMLView",
            "description": "",
            "description_tooltip": null,
            "layout": "IPY_MODEL_57f4b384e3924b7e93bc042fe46bcf58",
            "placeholder": "​",
            "style": "IPY_MODEL_6e9453d2e8e943efa134a6d75a16882f",
            "value": " 1.34G/1.34G [00:15&lt;00:00, 59.2MB/s]"
          }
        },
        "5c104adab0884ee6aa28bbe6cc5030ba": {
          "model_module": "@jupyter-widgets/base",
          "model_name": "LayoutModel",
          "model_module_version": "1.2.0",
          "state": {
            "_model_module": "@jupyter-widgets/base",
            "_model_module_version": "1.2.0",
            "_model_name": "LayoutModel",
            "_view_count": null,
            "_view_module": "@jupyter-widgets/base",
            "_view_module_version": "1.2.0",
            "_view_name": "LayoutView",
            "align_content": null,
            "align_items": null,
            "align_self": null,
            "border": null,
            "bottom": null,
            "display": null,
            "flex": null,
            "flex_flow": null,
            "grid_area": null,
            "grid_auto_columns": null,
            "grid_auto_flow": null,
            "grid_auto_rows": null,
            "grid_column": null,
            "grid_gap": null,
            "grid_row": null,
            "grid_template_areas": null,
            "grid_template_columns": null,
            "grid_template_rows": null,
            "height": null,
            "justify_content": null,
            "justify_items": null,
            "left": null,
            "margin": null,
            "max_height": null,
            "max_width": null,
            "min_height": null,
            "min_width": null,
            "object_fit": null,
            "object_position": null,
            "order": null,
            "overflow": null,
            "overflow_x": null,
            "overflow_y": null,
            "padding": null,
            "right": null,
            "top": null,
            "visibility": null,
            "width": null
          }
        },
        "806acecfdb3e4c4083d14fc346b64563": {
          "model_module": "@jupyter-widgets/base",
          "model_name": "LayoutModel",
          "model_module_version": "1.2.0",
          "state": {
            "_model_module": "@jupyter-widgets/base",
            "_model_module_version": "1.2.0",
            "_model_name": "LayoutModel",
            "_view_count": null,
            "_view_module": "@jupyter-widgets/base",
            "_view_module_version": "1.2.0",
            "_view_name": "LayoutView",
            "align_content": null,
            "align_items": null,
            "align_self": null,
            "border": null,
            "bottom": null,
            "display": null,
            "flex": null,
            "flex_flow": null,
            "grid_area": null,
            "grid_auto_columns": null,
            "grid_auto_flow": null,
            "grid_auto_rows": null,
            "grid_column": null,
            "grid_gap": null,
            "grid_row": null,
            "grid_template_areas": null,
            "grid_template_columns": null,
            "grid_template_rows": null,
            "height": null,
            "justify_content": null,
            "justify_items": null,
            "left": null,
            "margin": null,
            "max_height": null,
            "max_width": null,
            "min_height": null,
            "min_width": null,
            "object_fit": null,
            "object_position": null,
            "order": null,
            "overflow": null,
            "overflow_x": null,
            "overflow_y": null,
            "padding": null,
            "right": null,
            "top": null,
            "visibility": null,
            "width": null
          }
        },
        "468e15fe6a31408da40ce511a89b1368": {
          "model_module": "@jupyter-widgets/controls",
          "model_name": "DescriptionStyleModel",
          "model_module_version": "1.5.0",
          "state": {
            "_model_module": "@jupyter-widgets/controls",
            "_model_module_version": "1.5.0",
            "_model_name": "DescriptionStyleModel",
            "_view_count": null,
            "_view_module": "@jupyter-widgets/base",
            "_view_module_version": "1.2.0",
            "_view_name": "StyleView",
            "description_width": ""
          }
        },
        "2691353896d94378b2ffacbafaeebd55": {
          "model_module": "@jupyter-widgets/base",
          "model_name": "LayoutModel",
          "model_module_version": "1.2.0",
          "state": {
            "_model_module": "@jupyter-widgets/base",
            "_model_module_version": "1.2.0",
            "_model_name": "LayoutModel",
            "_view_count": null,
            "_view_module": "@jupyter-widgets/base",
            "_view_module_version": "1.2.0",
            "_view_name": "LayoutView",
            "align_content": null,
            "align_items": null,
            "align_self": null,
            "border": null,
            "bottom": null,
            "display": null,
            "flex": null,
            "flex_flow": null,
            "grid_area": null,
            "grid_auto_columns": null,
            "grid_auto_flow": null,
            "grid_auto_rows": null,
            "grid_column": null,
            "grid_gap": null,
            "grid_row": null,
            "grid_template_areas": null,
            "grid_template_columns": null,
            "grid_template_rows": null,
            "height": null,
            "justify_content": null,
            "justify_items": null,
            "left": null,
            "margin": null,
            "max_height": null,
            "max_width": null,
            "min_height": null,
            "min_width": null,
            "object_fit": null,
            "object_position": null,
            "order": null,
            "overflow": null,
            "overflow_x": null,
            "overflow_y": null,
            "padding": null,
            "right": null,
            "top": null,
            "visibility": null,
            "width": null
          }
        },
        "bbb743b4fc744e9db800ccaa5e1246f5": {
          "model_module": "@jupyter-widgets/controls",
          "model_name": "ProgressStyleModel",
          "model_module_version": "1.5.0",
          "state": {
            "_model_module": "@jupyter-widgets/controls",
            "_model_module_version": "1.5.0",
            "_model_name": "ProgressStyleModel",
            "_view_count": null,
            "_view_module": "@jupyter-widgets/base",
            "_view_module_version": "1.2.0",
            "_view_name": "StyleView",
            "bar_color": null,
            "description_width": ""
          }
        },
        "57f4b384e3924b7e93bc042fe46bcf58": {
          "model_module": "@jupyter-widgets/base",
          "model_name": "LayoutModel",
          "model_module_version": "1.2.0",
          "state": {
            "_model_module": "@jupyter-widgets/base",
            "_model_module_version": "1.2.0",
            "_model_name": "LayoutModel",
            "_view_count": null,
            "_view_module": "@jupyter-widgets/base",
            "_view_module_version": "1.2.0",
            "_view_name": "LayoutView",
            "align_content": null,
            "align_items": null,
            "align_self": null,
            "border": null,
            "bottom": null,
            "display": null,
            "flex": null,
            "flex_flow": null,
            "grid_area": null,
            "grid_auto_columns": null,
            "grid_auto_flow": null,
            "grid_auto_rows": null,
            "grid_column": null,
            "grid_gap": null,
            "grid_row": null,
            "grid_template_areas": null,
            "grid_template_columns": null,
            "grid_template_rows": null,
            "height": null,
            "justify_content": null,
            "justify_items": null,
            "left": null,
            "margin": null,
            "max_height": null,
            "max_width": null,
            "min_height": null,
            "min_width": null,
            "object_fit": null,
            "object_position": null,
            "order": null,
            "overflow": null,
            "overflow_x": null,
            "overflow_y": null,
            "padding": null,
            "right": null,
            "top": null,
            "visibility": null,
            "width": null
          }
        },
        "6e9453d2e8e943efa134a6d75a16882f": {
          "model_module": "@jupyter-widgets/controls",
          "model_name": "DescriptionStyleModel",
          "model_module_version": "1.5.0",
          "state": {
            "_model_module": "@jupyter-widgets/controls",
            "_model_module_version": "1.5.0",
            "_model_name": "DescriptionStyleModel",
            "_view_count": null,
            "_view_module": "@jupyter-widgets/base",
            "_view_module_version": "1.2.0",
            "_view_name": "StyleView",
            "description_width": ""
          }
        },
        "f3451cd64fe6448e8c5d3fbb798c45db": {
          "model_module": "@jupyter-widgets/controls",
          "model_name": "HBoxModel",
          "model_module_version": "1.5.0",
          "state": {
            "_dom_classes": [],
            "_model_module": "@jupyter-widgets/controls",
            "_model_module_version": "1.5.0",
            "_model_name": "HBoxModel",
            "_view_count": null,
            "_view_module": "@jupyter-widgets/controls",
            "_view_module_version": "1.5.0",
            "_view_name": "HBoxView",
            "box_style": "",
            "children": [
              "IPY_MODEL_81d0a6cecbe6431e9a8e1f4313b4bcec",
              "IPY_MODEL_aa7c2d33624d4acd9150b0d6010d3fc4",
              "IPY_MODEL_dda94ef136ab47519169355f80a32585"
            ],
            "layout": "IPY_MODEL_d94d6705b9ea4cd4a7778f8f4a38cc89"
          }
        },
        "81d0a6cecbe6431e9a8e1f4313b4bcec": {
          "model_module": "@jupyter-widgets/controls",
          "model_name": "HTMLModel",
          "model_module_version": "1.5.0",
          "state": {
            "_dom_classes": [],
            "_model_module": "@jupyter-widgets/controls",
            "_model_module_version": "1.5.0",
            "_model_name": "HTMLModel",
            "_view_count": null,
            "_view_module": "@jupyter-widgets/controls",
            "_view_module_version": "1.5.0",
            "_view_name": "HTMLView",
            "description": "",
            "description_tooltip": null,
            "layout": "IPY_MODEL_da5c5ec7c6794751afacdde5b6486f95",
            "placeholder": "​",
            "style": "IPY_MODEL_1697e7cfaab24cf188417d170059b8cc",
            "value": "tokenizer_config.json: 100%"
          }
        },
        "aa7c2d33624d4acd9150b0d6010d3fc4": {
          "model_module": "@jupyter-widgets/controls",
          "model_name": "FloatProgressModel",
          "model_module_version": "1.5.0",
          "state": {
            "_dom_classes": [],
            "_model_module": "@jupyter-widgets/controls",
            "_model_module_version": "1.5.0",
            "_model_name": "FloatProgressModel",
            "_view_count": null,
            "_view_module": "@jupyter-widgets/controls",
            "_view_module_version": "1.5.0",
            "_view_name": "ProgressView",
            "bar_style": "success",
            "description": "",
            "description_tooltip": null,
            "layout": "IPY_MODEL_91f4dd31344e49f78eea8297b51c29de",
            "max": 28,
            "min": 0,
            "orientation": "horizontal",
            "style": "IPY_MODEL_edc78ada4dc94359b4c3881c8a6eb0d9",
            "value": 28
          }
        },
        "dda94ef136ab47519169355f80a32585": {
          "model_module": "@jupyter-widgets/controls",
          "model_name": "HTMLModel",
          "model_module_version": "1.5.0",
          "state": {
            "_dom_classes": [],
            "_model_module": "@jupyter-widgets/controls",
            "_model_module_version": "1.5.0",
            "_model_name": "HTMLModel",
            "_view_count": null,
            "_view_module": "@jupyter-widgets/controls",
            "_view_module_version": "1.5.0",
            "_view_name": "HTMLView",
            "description": "",
            "description_tooltip": null,
            "layout": "IPY_MODEL_294ea65fcc06466db63887a5ce015604",
            "placeholder": "​",
            "style": "IPY_MODEL_457f22bceff045759fee14c2cfb2d5fb",
            "value": " 28.0/28.0 [00:00&lt;00:00, 304B/s]"
          }
        },
        "d94d6705b9ea4cd4a7778f8f4a38cc89": {
          "model_module": "@jupyter-widgets/base",
          "model_name": "LayoutModel",
          "model_module_version": "1.2.0",
          "state": {
            "_model_module": "@jupyter-widgets/base",
            "_model_module_version": "1.2.0",
            "_model_name": "LayoutModel",
            "_view_count": null,
            "_view_module": "@jupyter-widgets/base",
            "_view_module_version": "1.2.0",
            "_view_name": "LayoutView",
            "align_content": null,
            "align_items": null,
            "align_self": null,
            "border": null,
            "bottom": null,
            "display": null,
            "flex": null,
            "flex_flow": null,
            "grid_area": null,
            "grid_auto_columns": null,
            "grid_auto_flow": null,
            "grid_auto_rows": null,
            "grid_column": null,
            "grid_gap": null,
            "grid_row": null,
            "grid_template_areas": null,
            "grid_template_columns": null,
            "grid_template_rows": null,
            "height": null,
            "justify_content": null,
            "justify_items": null,
            "left": null,
            "margin": null,
            "max_height": null,
            "max_width": null,
            "min_height": null,
            "min_width": null,
            "object_fit": null,
            "object_position": null,
            "order": null,
            "overflow": null,
            "overflow_x": null,
            "overflow_y": null,
            "padding": null,
            "right": null,
            "top": null,
            "visibility": null,
            "width": null
          }
        },
        "da5c5ec7c6794751afacdde5b6486f95": {
          "model_module": "@jupyter-widgets/base",
          "model_name": "LayoutModel",
          "model_module_version": "1.2.0",
          "state": {
            "_model_module": "@jupyter-widgets/base",
            "_model_module_version": "1.2.0",
            "_model_name": "LayoutModel",
            "_view_count": null,
            "_view_module": "@jupyter-widgets/base",
            "_view_module_version": "1.2.0",
            "_view_name": "LayoutView",
            "align_content": null,
            "align_items": null,
            "align_self": null,
            "border": null,
            "bottom": null,
            "display": null,
            "flex": null,
            "flex_flow": null,
            "grid_area": null,
            "grid_auto_columns": null,
            "grid_auto_flow": null,
            "grid_auto_rows": null,
            "grid_column": null,
            "grid_gap": null,
            "grid_row": null,
            "grid_template_areas": null,
            "grid_template_columns": null,
            "grid_template_rows": null,
            "height": null,
            "justify_content": null,
            "justify_items": null,
            "left": null,
            "margin": null,
            "max_height": null,
            "max_width": null,
            "min_height": null,
            "min_width": null,
            "object_fit": null,
            "object_position": null,
            "order": null,
            "overflow": null,
            "overflow_x": null,
            "overflow_y": null,
            "padding": null,
            "right": null,
            "top": null,
            "visibility": null,
            "width": null
          }
        },
        "1697e7cfaab24cf188417d170059b8cc": {
          "model_module": "@jupyter-widgets/controls",
          "model_name": "DescriptionStyleModel",
          "model_module_version": "1.5.0",
          "state": {
            "_model_module": "@jupyter-widgets/controls",
            "_model_module_version": "1.5.0",
            "_model_name": "DescriptionStyleModel",
            "_view_count": null,
            "_view_module": "@jupyter-widgets/base",
            "_view_module_version": "1.2.0",
            "_view_name": "StyleView",
            "description_width": ""
          }
        },
        "91f4dd31344e49f78eea8297b51c29de": {
          "model_module": "@jupyter-widgets/base",
          "model_name": "LayoutModel",
          "model_module_version": "1.2.0",
          "state": {
            "_model_module": "@jupyter-widgets/base",
            "_model_module_version": "1.2.0",
            "_model_name": "LayoutModel",
            "_view_count": null,
            "_view_module": "@jupyter-widgets/base",
            "_view_module_version": "1.2.0",
            "_view_name": "LayoutView",
            "align_content": null,
            "align_items": null,
            "align_self": null,
            "border": null,
            "bottom": null,
            "display": null,
            "flex": null,
            "flex_flow": null,
            "grid_area": null,
            "grid_auto_columns": null,
            "grid_auto_flow": null,
            "grid_auto_rows": null,
            "grid_column": null,
            "grid_gap": null,
            "grid_row": null,
            "grid_template_areas": null,
            "grid_template_columns": null,
            "grid_template_rows": null,
            "height": null,
            "justify_content": null,
            "justify_items": null,
            "left": null,
            "margin": null,
            "max_height": null,
            "max_width": null,
            "min_height": null,
            "min_width": null,
            "object_fit": null,
            "object_position": null,
            "order": null,
            "overflow": null,
            "overflow_x": null,
            "overflow_y": null,
            "padding": null,
            "right": null,
            "top": null,
            "visibility": null,
            "width": null
          }
        },
        "edc78ada4dc94359b4c3881c8a6eb0d9": {
          "model_module": "@jupyter-widgets/controls",
          "model_name": "ProgressStyleModel",
          "model_module_version": "1.5.0",
          "state": {
            "_model_module": "@jupyter-widgets/controls",
            "_model_module_version": "1.5.0",
            "_model_name": "ProgressStyleModel",
            "_view_count": null,
            "_view_module": "@jupyter-widgets/base",
            "_view_module_version": "1.2.0",
            "_view_name": "StyleView",
            "bar_color": null,
            "description_width": ""
          }
        },
        "294ea65fcc06466db63887a5ce015604": {
          "model_module": "@jupyter-widgets/base",
          "model_name": "LayoutModel",
          "model_module_version": "1.2.0",
          "state": {
            "_model_module": "@jupyter-widgets/base",
            "_model_module_version": "1.2.0",
            "_model_name": "LayoutModel",
            "_view_count": null,
            "_view_module": "@jupyter-widgets/base",
            "_view_module_version": "1.2.0",
            "_view_name": "LayoutView",
            "align_content": null,
            "align_items": null,
            "align_self": null,
            "border": null,
            "bottom": null,
            "display": null,
            "flex": null,
            "flex_flow": null,
            "grid_area": null,
            "grid_auto_columns": null,
            "grid_auto_flow": null,
            "grid_auto_rows": null,
            "grid_column": null,
            "grid_gap": null,
            "grid_row": null,
            "grid_template_areas": null,
            "grid_template_columns": null,
            "grid_template_rows": null,
            "height": null,
            "justify_content": null,
            "justify_items": null,
            "left": null,
            "margin": null,
            "max_height": null,
            "max_width": null,
            "min_height": null,
            "min_width": null,
            "object_fit": null,
            "object_position": null,
            "order": null,
            "overflow": null,
            "overflow_x": null,
            "overflow_y": null,
            "padding": null,
            "right": null,
            "top": null,
            "visibility": null,
            "width": null
          }
        },
        "457f22bceff045759fee14c2cfb2d5fb": {
          "model_module": "@jupyter-widgets/controls",
          "model_name": "DescriptionStyleModel",
          "model_module_version": "1.5.0",
          "state": {
            "_model_module": "@jupyter-widgets/controls",
            "_model_module_version": "1.5.0",
            "_model_name": "DescriptionStyleModel",
            "_view_count": null,
            "_view_module": "@jupyter-widgets/base",
            "_view_module_version": "1.2.0",
            "_view_name": "StyleView",
            "description_width": ""
          }
        },
        "1db017d7a72c41108137003425c736c0": {
          "model_module": "@jupyter-widgets/controls",
          "model_name": "HBoxModel",
          "model_module_version": "1.5.0",
          "state": {
            "_dom_classes": [],
            "_model_module": "@jupyter-widgets/controls",
            "_model_module_version": "1.5.0",
            "_model_name": "HBoxModel",
            "_view_count": null,
            "_view_module": "@jupyter-widgets/controls",
            "_view_module_version": "1.5.0",
            "_view_name": "HBoxView",
            "box_style": "",
            "children": [
              "IPY_MODEL_f19379c620894a129a90a2570028295b",
              "IPY_MODEL_d666f8c2a055473988ed441a49f71ccf",
              "IPY_MODEL_81efe9fe609d41abba01430b67447d03"
            ],
            "layout": "IPY_MODEL_bcce74bcfbef4e8dac6a2dd84c1b555e"
          }
        },
        "f19379c620894a129a90a2570028295b": {
          "model_module": "@jupyter-widgets/controls",
          "model_name": "HTMLModel",
          "model_module_version": "1.5.0",
          "state": {
            "_dom_classes": [],
            "_model_module": "@jupyter-widgets/controls",
            "_model_module_version": "1.5.0",
            "_model_name": "HTMLModel",
            "_view_count": null,
            "_view_module": "@jupyter-widgets/controls",
            "_view_module_version": "1.5.0",
            "_view_name": "HTMLView",
            "description": "",
            "description_tooltip": null,
            "layout": "IPY_MODEL_d7098444895a457ebaa8926a4be191d7",
            "placeholder": "​",
            "style": "IPY_MODEL_cacdd1f6ac8242559b2621fcd3220b09",
            "value": "vocab.txt: 100%"
          }
        },
        "d666f8c2a055473988ed441a49f71ccf": {
          "model_module": "@jupyter-widgets/controls",
          "model_name": "FloatProgressModel",
          "model_module_version": "1.5.0",
          "state": {
            "_dom_classes": [],
            "_model_module": "@jupyter-widgets/controls",
            "_model_module_version": "1.5.0",
            "_model_name": "FloatProgressModel",
            "_view_count": null,
            "_view_module": "@jupyter-widgets/controls",
            "_view_module_version": "1.5.0",
            "_view_name": "ProgressView",
            "bar_style": "success",
            "description": "",
            "description_tooltip": null,
            "layout": "IPY_MODEL_e00c3cc09ac044849059faaf84e6e6e8",
            "max": 231508,
            "min": 0,
            "orientation": "horizontal",
            "style": "IPY_MODEL_c06e2e8a6ccd492d908ad45cef72f92e",
            "value": 231508
          }
        },
        "81efe9fe609d41abba01430b67447d03": {
          "model_module": "@jupyter-widgets/controls",
          "model_name": "HTMLModel",
          "model_module_version": "1.5.0",
          "state": {
            "_dom_classes": [],
            "_model_module": "@jupyter-widgets/controls",
            "_model_module_version": "1.5.0",
            "_model_name": "HTMLModel",
            "_view_count": null,
            "_view_module": "@jupyter-widgets/controls",
            "_view_module_version": "1.5.0",
            "_view_name": "HTMLView",
            "description": "",
            "description_tooltip": null,
            "layout": "IPY_MODEL_f490186e47c34286a744b133ffd1a2ad",
            "placeholder": "​",
            "style": "IPY_MODEL_52b81674b2e24735816a476f1067e9bf",
            "value": " 232k/232k [00:00&lt;00:00, 2.17MB/s]"
          }
        },
        "bcce74bcfbef4e8dac6a2dd84c1b555e": {
          "model_module": "@jupyter-widgets/base",
          "model_name": "LayoutModel",
          "model_module_version": "1.2.0",
          "state": {
            "_model_module": "@jupyter-widgets/base",
            "_model_module_version": "1.2.0",
            "_model_name": "LayoutModel",
            "_view_count": null,
            "_view_module": "@jupyter-widgets/base",
            "_view_module_version": "1.2.0",
            "_view_name": "LayoutView",
            "align_content": null,
            "align_items": null,
            "align_self": null,
            "border": null,
            "bottom": null,
            "display": null,
            "flex": null,
            "flex_flow": null,
            "grid_area": null,
            "grid_auto_columns": null,
            "grid_auto_flow": null,
            "grid_auto_rows": null,
            "grid_column": null,
            "grid_gap": null,
            "grid_row": null,
            "grid_template_areas": null,
            "grid_template_columns": null,
            "grid_template_rows": null,
            "height": null,
            "justify_content": null,
            "justify_items": null,
            "left": null,
            "margin": null,
            "max_height": null,
            "max_width": null,
            "min_height": null,
            "min_width": null,
            "object_fit": null,
            "object_position": null,
            "order": null,
            "overflow": null,
            "overflow_x": null,
            "overflow_y": null,
            "padding": null,
            "right": null,
            "top": null,
            "visibility": null,
            "width": null
          }
        },
        "d7098444895a457ebaa8926a4be191d7": {
          "model_module": "@jupyter-widgets/base",
          "model_name": "LayoutModel",
          "model_module_version": "1.2.0",
          "state": {
            "_model_module": "@jupyter-widgets/base",
            "_model_module_version": "1.2.0",
            "_model_name": "LayoutModel",
            "_view_count": null,
            "_view_module": "@jupyter-widgets/base",
            "_view_module_version": "1.2.0",
            "_view_name": "LayoutView",
            "align_content": null,
            "align_items": null,
            "align_self": null,
            "border": null,
            "bottom": null,
            "display": null,
            "flex": null,
            "flex_flow": null,
            "grid_area": null,
            "grid_auto_columns": null,
            "grid_auto_flow": null,
            "grid_auto_rows": null,
            "grid_column": null,
            "grid_gap": null,
            "grid_row": null,
            "grid_template_areas": null,
            "grid_template_columns": null,
            "grid_template_rows": null,
            "height": null,
            "justify_content": null,
            "justify_items": null,
            "left": null,
            "margin": null,
            "max_height": null,
            "max_width": null,
            "min_height": null,
            "min_width": null,
            "object_fit": null,
            "object_position": null,
            "order": null,
            "overflow": null,
            "overflow_x": null,
            "overflow_y": null,
            "padding": null,
            "right": null,
            "top": null,
            "visibility": null,
            "width": null
          }
        },
        "cacdd1f6ac8242559b2621fcd3220b09": {
          "model_module": "@jupyter-widgets/controls",
          "model_name": "DescriptionStyleModel",
          "model_module_version": "1.5.0",
          "state": {
            "_model_module": "@jupyter-widgets/controls",
            "_model_module_version": "1.5.0",
            "_model_name": "DescriptionStyleModel",
            "_view_count": null,
            "_view_module": "@jupyter-widgets/base",
            "_view_module_version": "1.2.0",
            "_view_name": "StyleView",
            "description_width": ""
          }
        },
        "e00c3cc09ac044849059faaf84e6e6e8": {
          "model_module": "@jupyter-widgets/base",
          "model_name": "LayoutModel",
          "model_module_version": "1.2.0",
          "state": {
            "_model_module": "@jupyter-widgets/base",
            "_model_module_version": "1.2.0",
            "_model_name": "LayoutModel",
            "_view_count": null,
            "_view_module": "@jupyter-widgets/base",
            "_view_module_version": "1.2.0",
            "_view_name": "LayoutView",
            "align_content": null,
            "align_items": null,
            "align_self": null,
            "border": null,
            "bottom": null,
            "display": null,
            "flex": null,
            "flex_flow": null,
            "grid_area": null,
            "grid_auto_columns": null,
            "grid_auto_flow": null,
            "grid_auto_rows": null,
            "grid_column": null,
            "grid_gap": null,
            "grid_row": null,
            "grid_template_areas": null,
            "grid_template_columns": null,
            "grid_template_rows": null,
            "height": null,
            "justify_content": null,
            "justify_items": null,
            "left": null,
            "margin": null,
            "max_height": null,
            "max_width": null,
            "min_height": null,
            "min_width": null,
            "object_fit": null,
            "object_position": null,
            "order": null,
            "overflow": null,
            "overflow_x": null,
            "overflow_y": null,
            "padding": null,
            "right": null,
            "top": null,
            "visibility": null,
            "width": null
          }
        },
        "c06e2e8a6ccd492d908ad45cef72f92e": {
          "model_module": "@jupyter-widgets/controls",
          "model_name": "ProgressStyleModel",
          "model_module_version": "1.5.0",
          "state": {
            "_model_module": "@jupyter-widgets/controls",
            "_model_module_version": "1.5.0",
            "_model_name": "ProgressStyleModel",
            "_view_count": null,
            "_view_module": "@jupyter-widgets/base",
            "_view_module_version": "1.2.0",
            "_view_name": "StyleView",
            "bar_color": null,
            "description_width": ""
          }
        },
        "f490186e47c34286a744b133ffd1a2ad": {
          "model_module": "@jupyter-widgets/base",
          "model_name": "LayoutModel",
          "model_module_version": "1.2.0",
          "state": {
            "_model_module": "@jupyter-widgets/base",
            "_model_module_version": "1.2.0",
            "_model_name": "LayoutModel",
            "_view_count": null,
            "_view_module": "@jupyter-widgets/base",
            "_view_module_version": "1.2.0",
            "_view_name": "LayoutView",
            "align_content": null,
            "align_items": null,
            "align_self": null,
            "border": null,
            "bottom": null,
            "display": null,
            "flex": null,
            "flex_flow": null,
            "grid_area": null,
            "grid_auto_columns": null,
            "grid_auto_flow": null,
            "grid_auto_rows": null,
            "grid_column": null,
            "grid_gap": null,
            "grid_row": null,
            "grid_template_areas": null,
            "grid_template_columns": null,
            "grid_template_rows": null,
            "height": null,
            "justify_content": null,
            "justify_items": null,
            "left": null,
            "margin": null,
            "max_height": null,
            "max_width": null,
            "min_height": null,
            "min_width": null,
            "object_fit": null,
            "object_position": null,
            "order": null,
            "overflow": null,
            "overflow_x": null,
            "overflow_y": null,
            "padding": null,
            "right": null,
            "top": null,
            "visibility": null,
            "width": null
          }
        },
        "52b81674b2e24735816a476f1067e9bf": {
          "model_module": "@jupyter-widgets/controls",
          "model_name": "DescriptionStyleModel",
          "model_module_version": "1.5.0",
          "state": {
            "_model_module": "@jupyter-widgets/controls",
            "_model_module_version": "1.5.0",
            "_model_name": "DescriptionStyleModel",
            "_view_count": null,
            "_view_module": "@jupyter-widgets/base",
            "_view_module_version": "1.2.0",
            "_view_name": "StyleView",
            "description_width": ""
          }
        },
        "6d8a095b8a0d4df7b152eef53d97d7a2": {
          "model_module": "@jupyter-widgets/controls",
          "model_name": "HBoxModel",
          "model_module_version": "1.5.0",
          "state": {
            "_dom_classes": [],
            "_model_module": "@jupyter-widgets/controls",
            "_model_module_version": "1.5.0",
            "_model_name": "HBoxModel",
            "_view_count": null,
            "_view_module": "@jupyter-widgets/controls",
            "_view_module_version": "1.5.0",
            "_view_name": "HBoxView",
            "box_style": "",
            "children": [
              "IPY_MODEL_53f7d2e0aa974f258626d5282bf889a4",
              "IPY_MODEL_3ac15172421c4b1eadb4ec0f8f78df44",
              "IPY_MODEL_19524b3f22d04abdb7eb978c1a3eb0e7"
            ],
            "layout": "IPY_MODEL_0542b5d95bd44df59b8ee23397180e9f"
          }
        },
        "53f7d2e0aa974f258626d5282bf889a4": {
          "model_module": "@jupyter-widgets/controls",
          "model_name": "HTMLModel",
          "model_module_version": "1.5.0",
          "state": {
            "_dom_classes": [],
            "_model_module": "@jupyter-widgets/controls",
            "_model_module_version": "1.5.0",
            "_model_name": "HTMLModel",
            "_view_count": null,
            "_view_module": "@jupyter-widgets/controls",
            "_view_module_version": "1.5.0",
            "_view_name": "HTMLView",
            "description": "",
            "description_tooltip": null,
            "layout": "IPY_MODEL_eea52a9563184a9bb2a001e0c4b95a1e",
            "placeholder": "​",
            "style": "IPY_MODEL_13acb31b39854bf28cf4d19f09931a9c",
            "value": "tokenizer.json: 100%"
          }
        },
        "3ac15172421c4b1eadb4ec0f8f78df44": {
          "model_module": "@jupyter-widgets/controls",
          "model_name": "FloatProgressModel",
          "model_module_version": "1.5.0",
          "state": {
            "_dom_classes": [],
            "_model_module": "@jupyter-widgets/controls",
            "_model_module_version": "1.5.0",
            "_model_name": "FloatProgressModel",
            "_view_count": null,
            "_view_module": "@jupyter-widgets/controls",
            "_view_module_version": "1.5.0",
            "_view_name": "ProgressView",
            "bar_style": "success",
            "description": "",
            "description_tooltip": null,
            "layout": "IPY_MODEL_3199a95bb4184c8991cd9ebb087c1fb1",
            "max": 466062,
            "min": 0,
            "orientation": "horizontal",
            "style": "IPY_MODEL_e7573070027a446899b174312a1aa950",
            "value": 466062
          }
        },
        "19524b3f22d04abdb7eb978c1a3eb0e7": {
          "model_module": "@jupyter-widgets/controls",
          "model_name": "HTMLModel",
          "model_module_version": "1.5.0",
          "state": {
            "_dom_classes": [],
            "_model_module": "@jupyter-widgets/controls",
            "_model_module_version": "1.5.0",
            "_model_name": "HTMLModel",
            "_view_count": null,
            "_view_module": "@jupyter-widgets/controls",
            "_view_module_version": "1.5.0",
            "_view_name": "HTMLView",
            "description": "",
            "description_tooltip": null,
            "layout": "IPY_MODEL_f7e3eef5d03e48b9ad5ecee49c43fbaa",
            "placeholder": "​",
            "style": "IPY_MODEL_202da7a338414fb0837e690f4146cd77",
            "value": " 466k/466k [00:00&lt;00:00, 4.09MB/s]"
          }
        },
        "0542b5d95bd44df59b8ee23397180e9f": {
          "model_module": "@jupyter-widgets/base",
          "model_name": "LayoutModel",
          "model_module_version": "1.2.0",
          "state": {
            "_model_module": "@jupyter-widgets/base",
            "_model_module_version": "1.2.0",
            "_model_name": "LayoutModel",
            "_view_count": null,
            "_view_module": "@jupyter-widgets/base",
            "_view_module_version": "1.2.0",
            "_view_name": "LayoutView",
            "align_content": null,
            "align_items": null,
            "align_self": null,
            "border": null,
            "bottom": null,
            "display": null,
            "flex": null,
            "flex_flow": null,
            "grid_area": null,
            "grid_auto_columns": null,
            "grid_auto_flow": null,
            "grid_auto_rows": null,
            "grid_column": null,
            "grid_gap": null,
            "grid_row": null,
            "grid_template_areas": null,
            "grid_template_columns": null,
            "grid_template_rows": null,
            "height": null,
            "justify_content": null,
            "justify_items": null,
            "left": null,
            "margin": null,
            "max_height": null,
            "max_width": null,
            "min_height": null,
            "min_width": null,
            "object_fit": null,
            "object_position": null,
            "order": null,
            "overflow": null,
            "overflow_x": null,
            "overflow_y": null,
            "padding": null,
            "right": null,
            "top": null,
            "visibility": null,
            "width": null
          }
        },
        "eea52a9563184a9bb2a001e0c4b95a1e": {
          "model_module": "@jupyter-widgets/base",
          "model_name": "LayoutModel",
          "model_module_version": "1.2.0",
          "state": {
            "_model_module": "@jupyter-widgets/base",
            "_model_module_version": "1.2.0",
            "_model_name": "LayoutModel",
            "_view_count": null,
            "_view_module": "@jupyter-widgets/base",
            "_view_module_version": "1.2.0",
            "_view_name": "LayoutView",
            "align_content": null,
            "align_items": null,
            "align_self": null,
            "border": null,
            "bottom": null,
            "display": null,
            "flex": null,
            "flex_flow": null,
            "grid_area": null,
            "grid_auto_columns": null,
            "grid_auto_flow": null,
            "grid_auto_rows": null,
            "grid_column": null,
            "grid_gap": null,
            "grid_row": null,
            "grid_template_areas": null,
            "grid_template_columns": null,
            "grid_template_rows": null,
            "height": null,
            "justify_content": null,
            "justify_items": null,
            "left": null,
            "margin": null,
            "max_height": null,
            "max_width": null,
            "min_height": null,
            "min_width": null,
            "object_fit": null,
            "object_position": null,
            "order": null,
            "overflow": null,
            "overflow_x": null,
            "overflow_y": null,
            "padding": null,
            "right": null,
            "top": null,
            "visibility": null,
            "width": null
          }
        },
        "13acb31b39854bf28cf4d19f09931a9c": {
          "model_module": "@jupyter-widgets/controls",
          "model_name": "DescriptionStyleModel",
          "model_module_version": "1.5.0",
          "state": {
            "_model_module": "@jupyter-widgets/controls",
            "_model_module_version": "1.5.0",
            "_model_name": "DescriptionStyleModel",
            "_view_count": null,
            "_view_module": "@jupyter-widgets/base",
            "_view_module_version": "1.2.0",
            "_view_name": "StyleView",
            "description_width": ""
          }
        },
        "3199a95bb4184c8991cd9ebb087c1fb1": {
          "model_module": "@jupyter-widgets/base",
          "model_name": "LayoutModel",
          "model_module_version": "1.2.0",
          "state": {
            "_model_module": "@jupyter-widgets/base",
            "_model_module_version": "1.2.0",
            "_model_name": "LayoutModel",
            "_view_count": null,
            "_view_module": "@jupyter-widgets/base",
            "_view_module_version": "1.2.0",
            "_view_name": "LayoutView",
            "align_content": null,
            "align_items": null,
            "align_self": null,
            "border": null,
            "bottom": null,
            "display": null,
            "flex": null,
            "flex_flow": null,
            "grid_area": null,
            "grid_auto_columns": null,
            "grid_auto_flow": null,
            "grid_auto_rows": null,
            "grid_column": null,
            "grid_gap": null,
            "grid_row": null,
            "grid_template_areas": null,
            "grid_template_columns": null,
            "grid_template_rows": null,
            "height": null,
            "justify_content": null,
            "justify_items": null,
            "left": null,
            "margin": null,
            "max_height": null,
            "max_width": null,
            "min_height": null,
            "min_width": null,
            "object_fit": null,
            "object_position": null,
            "order": null,
            "overflow": null,
            "overflow_x": null,
            "overflow_y": null,
            "padding": null,
            "right": null,
            "top": null,
            "visibility": null,
            "width": null
          }
        },
        "e7573070027a446899b174312a1aa950": {
          "model_module": "@jupyter-widgets/controls",
          "model_name": "ProgressStyleModel",
          "model_module_version": "1.5.0",
          "state": {
            "_model_module": "@jupyter-widgets/controls",
            "_model_module_version": "1.5.0",
            "_model_name": "ProgressStyleModel",
            "_view_count": null,
            "_view_module": "@jupyter-widgets/base",
            "_view_module_version": "1.2.0",
            "_view_name": "StyleView",
            "bar_color": null,
            "description_width": ""
          }
        },
        "f7e3eef5d03e48b9ad5ecee49c43fbaa": {
          "model_module": "@jupyter-widgets/base",
          "model_name": "LayoutModel",
          "model_module_version": "1.2.0",
          "state": {
            "_model_module": "@jupyter-widgets/base",
            "_model_module_version": "1.2.0",
            "_model_name": "LayoutModel",
            "_view_count": null,
            "_view_module": "@jupyter-widgets/base",
            "_view_module_version": "1.2.0",
            "_view_name": "LayoutView",
            "align_content": null,
            "align_items": null,
            "align_self": null,
            "border": null,
            "bottom": null,
            "display": null,
            "flex": null,
            "flex_flow": null,
            "grid_area": null,
            "grid_auto_columns": null,
            "grid_auto_flow": null,
            "grid_auto_rows": null,
            "grid_column": null,
            "grid_gap": null,
            "grid_row": null,
            "grid_template_areas": null,
            "grid_template_columns": null,
            "grid_template_rows": null,
            "height": null,
            "justify_content": null,
            "justify_items": null,
            "left": null,
            "margin": null,
            "max_height": null,
            "max_width": null,
            "min_height": null,
            "min_width": null,
            "object_fit": null,
            "object_position": null,
            "order": null,
            "overflow": null,
            "overflow_x": null,
            "overflow_y": null,
            "padding": null,
            "right": null,
            "top": null,
            "visibility": null,
            "width": null
          }
        },
        "202da7a338414fb0837e690f4146cd77": {
          "model_module": "@jupyter-widgets/controls",
          "model_name": "DescriptionStyleModel",
          "model_module_version": "1.5.0",
          "state": {
            "_model_module": "@jupyter-widgets/controls",
            "_model_module_version": "1.5.0",
            "_model_name": "DescriptionStyleModel",
            "_view_count": null,
            "_view_module": "@jupyter-widgets/base",
            "_view_module_version": "1.2.0",
            "_view_name": "StyleView",
            "description_width": ""
          }
        }
      }
    }
  },
  "cells": [
    {
      "cell_type": "markdown",
      "source": [
        "# Finetuned BERT for QA\n",
        "In this experiment, we gonna see, how BERT gonna handle the Question Answering problem with some illustrations and examples. In question answering, it appears that using a model already fine-tuned on the SQuAD benchmark could yield satisfactory results. In this Notebook, we'll demonstrate this approach and observe its effectiveness on text not included in the SQuAD dataset."
      ],
      "metadata": {
        "id": "Tuslom2-SJki"
      }
    },
    {
      "cell_type": "markdown",
      "source": [
        "## 1. The SQuAD Benchmark\n",
        "The SQuAD Benchmark refers to the Stanford Question Answering Dataset, a popular benchmark in natural language processing (NLP) and question answering tasks. It consists of a collection of questions posed by human annotators on a set of Wikipedia articles, along with the corresponding answers extracted from the articles. The goal is to develop models that can accurately answer questions based on the provided context passages. The SQuAD Benchmark has been widely used to evaluate the performance of various machine learning and NLP models in question answering tasks."
      ],
      "metadata": {
        "id": "Tgq6hUCzTjsK"
      }
    },
    {
      "cell_type": "markdown",
      "source": [
        "## 2. BERT input\n",
        "To perform a QA task into BERT, we pack both the question and the context(reference) text into the input.\n",
        "\n",
        "![image](http://mccormickml.com/assets/BERT/SQuAD/input_formatting.png)\n",
        "\n",
        "Here, the two parts of text are separated by the special [SEP] token. BERT utilizes \"Segment Embeddings\" to distinguish between the question and the reference text. These embeddings, representing segments \"A\" and \"B\", are additional embeddings learned by BERT. They are combined with the token embeddings before being inputted into the model's input layer."
      ],
      "metadata": {
        "id": "WqOOmXXdUYT5"
      }
    },
    {
      "cell_type": "markdown",
      "source": [
        "## 3. Start & End Token Classifiers\n",
        "In BERT, identifying the answer involves highlighting a \"span\" of text, which is essentially predicting the tokens indicating the start and end of the answer within the input text.\n",
        "\n",
        "![image](http://mccormickml.com/assets/BERT/SQuAD/start_token_classification.png)\n",
        "\n",
        "For each token in the text, we input its final embedding into the start token classifier. This classifier utilizes a single set of weights (depicted by the blue \"start\" rectangle) that is applied uniformly to all words. By computing the dot product between the output embeddings and the 'start' weights, we generate a probability distribution across all words using the softmax activation function. The word with the highest probability of being the start token is then selected.\n",
        "\n",
        "We repeat this process for the end token–we have a separate weight vector this\n",
        "\n",
        "![image](http://mccormickml.com/assets/BERT/SQuAD/end_token_classification.png)"
      ],
      "metadata": {
        "id": "uztbvDLZVzMC"
      }
    },
    {
      "cell_type": "markdown",
      "source": [
        "## 4. Example\n",
        "In the code example below, we will download a pre-trained model that has already been fine-tuned for question answering and then apply it to our own text to see how it performs."
      ],
      "metadata": {
        "id": "X4cxH4_xXN4q"
      }
    },
    {
      "cell_type": "markdown",
      "source": [
        "### 1. Install Huggingface transformers Library"
      ],
      "metadata": {
        "id": "WSiUvxZTXbow"
      }
    },
    {
      "cell_type": "code",
      "source": [
        "!pip install transformers"
      ],
      "metadata": {
        "colab": {
          "base_uri": "https://localhost:8080/"
        },
        "id": "Ukow5wK9SfLo",
        "outputId": "1b06ce65-583f-4708-f165-ba04fa3d2c89"
      },
      "execution_count": 1,
      "outputs": [
        {
          "output_type": "stream",
          "name": "stdout",
          "text": [
            "Requirement already satisfied: transformers in /usr/local/lib/python3.10/dist-packages (4.35.2)\n",
            "Requirement already satisfied: filelock in /usr/local/lib/python3.10/dist-packages (from transformers) (3.13.1)\n",
            "Requirement already satisfied: huggingface-hub<1.0,>=0.16.4 in /usr/local/lib/python3.10/dist-packages (from transformers) (0.20.3)\n",
            "Requirement already satisfied: numpy>=1.17 in /usr/local/lib/python3.10/dist-packages (from transformers) (1.25.2)\n",
            "Requirement already satisfied: packaging>=20.0 in /usr/local/lib/python3.10/dist-packages (from transformers) (23.2)\n",
            "Requirement already satisfied: pyyaml>=5.1 in /usr/local/lib/python3.10/dist-packages (from transformers) (6.0.1)\n",
            "Requirement already satisfied: regex!=2019.12.17 in /usr/local/lib/python3.10/dist-packages (from transformers) (2023.12.25)\n",
            "Requirement already satisfied: requests in /usr/local/lib/python3.10/dist-packages (from transformers) (2.31.0)\n",
            "Requirement already satisfied: tokenizers<0.19,>=0.14 in /usr/local/lib/python3.10/dist-packages (from transformers) (0.15.1)\n",
            "Requirement already satisfied: safetensors>=0.3.1 in /usr/local/lib/python3.10/dist-packages (from transformers) (0.4.2)\n",
            "Requirement already satisfied: tqdm>=4.27 in /usr/local/lib/python3.10/dist-packages (from transformers) (4.66.1)\n",
            "Requirement already satisfied: fsspec>=2023.5.0 in /usr/local/lib/python3.10/dist-packages (from huggingface-hub<1.0,>=0.16.4->transformers) (2023.6.0)\n",
            "Requirement already satisfied: typing-extensions>=3.7.4.3 in /usr/local/lib/python3.10/dist-packages (from huggingface-hub<1.0,>=0.16.4->transformers) (4.9.0)\n",
            "Requirement already satisfied: charset-normalizer<4,>=2 in /usr/local/lib/python3.10/dist-packages (from requests->transformers) (3.3.2)\n",
            "Requirement already satisfied: idna<4,>=2.5 in /usr/local/lib/python3.10/dist-packages (from requests->transformers) (3.6)\n",
            "Requirement already satisfied: urllib3<3,>=1.21.1 in /usr/local/lib/python3.10/dist-packages (from requests->transformers) (2.0.7)\n",
            "Requirement already satisfied: certifi>=2017.4.17 in /usr/local/lib/python3.10/dist-packages (from requests->transformers) (2024.2.2)\n"
          ]
        }
      ]
    },
    {
      "cell_type": "markdown",
      "source": [
        "### 2. Imports"
      ],
      "metadata": {
        "id": "hcM_RFNGXkwq"
      }
    },
    {
      "cell_type": "code",
      "source": [
        "import torch\n",
        "import numpy as np\n",
        "\n",
        "from transformers import BertForQuestionAnswering, BertTokenizer"
      ],
      "metadata": {
        "id": "fwuBswkwXiRk"
      },
      "execution_count": 2,
      "outputs": []
    },
    {
      "cell_type": "markdown",
      "source": [
        "### 3. Load the pretrained bert question answering model"
      ],
      "metadata": {
        "id": "1cKOZJnBXx-G"
      }
    },
    {
      "cell_type": "code",
      "source": [
        "model = BertForQuestionAnswering.from_pretrained('bert-large-uncased-whole-word-masking-finetuned-squad')"
      ],
      "metadata": {
        "colab": {
          "base_uri": "https://localhost:8080/",
          "height": 257,
          "referenced_widgets": [
            "1c65d12d911d4b55a85fa5067fa1f7cb",
            "1951e694140d4cc9803131f67a0afa49",
            "5665839057204a83b2913c663193d569",
            "75d78786498e48418670d035abfc753d",
            "884d8f1907584c5a94bad7df47974e0e",
            "d58141b4c3834068a4c8cccf38552dc8",
            "44b878844d1849d8a0b6f3fe05adc927",
            "8341a336d2574da9ba90ec2ce11b28e8",
            "afd5030930b6424ead86d35da0fc09dd",
            "c430eff44e12483d8cdaa240392d1bc3",
            "5f331374f95c4f249c14c97e0cf85b11",
            "f207b7bee352483c9f5ad86f6f1f7d3d",
            "fd394e5498d24be993b5c262f1a0e06a",
            "981a2698184f44f18ea6f34dd6ce3781",
            "d08f3fe955814d08a531044e6724d05e",
            "5c104adab0884ee6aa28bbe6cc5030ba",
            "806acecfdb3e4c4083d14fc346b64563",
            "468e15fe6a31408da40ce511a89b1368",
            "2691353896d94378b2ffacbafaeebd55",
            "bbb743b4fc744e9db800ccaa5e1246f5",
            "57f4b384e3924b7e93bc042fe46bcf58",
            "6e9453d2e8e943efa134a6d75a16882f"
          ]
        },
        "id": "lSDULyynXv3i",
        "outputId": "39d61e7e-f22d-4d79-cac5-231693bbdbe5"
      },
      "execution_count": 3,
      "outputs": [
        {
          "output_type": "stream",
          "name": "stderr",
          "text": [
            "/usr/local/lib/python3.10/dist-packages/huggingface_hub/utils/_token.py:88: UserWarning: \n",
            "The secret `HF_TOKEN` does not exist in your Colab secrets.\n",
            "To authenticate with the Hugging Face Hub, create a token in your settings tab (https://huggingface.co/settings/tokens), set it as secret in your Google Colab and restart your session.\n",
            "You will be able to reuse this secret in all of your notebooks.\n",
            "Please note that authentication is recommended but still optional to access public models or datasets.\n",
            "  warnings.warn(\n"
          ]
        },
        {
          "output_type": "display_data",
          "data": {
            "text/plain": [
              "config.json:   0%|          | 0.00/443 [00:00<?, ?B/s]"
            ],
            "application/vnd.jupyter.widget-view+json": {
              "version_major": 2,
              "version_minor": 0,
              "model_id": "1c65d12d911d4b55a85fa5067fa1f7cb"
            }
          },
          "metadata": {}
        },
        {
          "output_type": "display_data",
          "data": {
            "text/plain": [
              "model.safetensors:   0%|          | 0.00/1.34G [00:00<?, ?B/s]"
            ],
            "application/vnd.jupyter.widget-view+json": {
              "version_major": 2,
              "version_minor": 0,
              "model_id": "f207b7bee352483c9f5ad86f6f1f7d3d"
            }
          },
          "metadata": {}
        },
        {
          "output_type": "stream",
          "name": "stderr",
          "text": [
            "Some weights of the model checkpoint at bert-large-uncased-whole-word-masking-finetuned-squad were not used when initializing BertForQuestionAnswering: ['bert.pooler.dense.bias', 'bert.pooler.dense.weight']\n",
            "- This IS expected if you are initializing BertForQuestionAnswering from the checkpoint of a model trained on another task or with another architecture (e.g. initializing a BertForSequenceClassification model from a BertForPreTraining model).\n",
            "- This IS NOT expected if you are initializing BertForQuestionAnswering from the checkpoint of a model that you expect to be exactly identical (initializing a BertForSequenceClassification model from a BertForSequenceClassification model).\n"
          ]
        }
      ]
    },
    {
      "cell_type": "markdown",
      "source": [
        "Load the tokenizer"
      ],
      "metadata": {
        "id": "qmKxPgD_X9XU"
      }
    },
    {
      "cell_type": "code",
      "source": [
        "tokenizer = BertTokenizer.from_pretrained('bert-large-uncased-whole-word-masking-finetuned-squad')"
      ],
      "metadata": {
        "id": "ZDRo_198X6Up",
        "colab": {
          "base_uri": "https://localhost:8080/",
          "height": 113,
          "referenced_widgets": [
            "f3451cd64fe6448e8c5d3fbb798c45db",
            "81d0a6cecbe6431e9a8e1f4313b4bcec",
            "aa7c2d33624d4acd9150b0d6010d3fc4",
            "dda94ef136ab47519169355f80a32585",
            "d94d6705b9ea4cd4a7778f8f4a38cc89",
            "da5c5ec7c6794751afacdde5b6486f95",
            "1697e7cfaab24cf188417d170059b8cc",
            "91f4dd31344e49f78eea8297b51c29de",
            "edc78ada4dc94359b4c3881c8a6eb0d9",
            "294ea65fcc06466db63887a5ce015604",
            "457f22bceff045759fee14c2cfb2d5fb",
            "1db017d7a72c41108137003425c736c0",
            "f19379c620894a129a90a2570028295b",
            "d666f8c2a055473988ed441a49f71ccf",
            "81efe9fe609d41abba01430b67447d03",
            "bcce74bcfbef4e8dac6a2dd84c1b555e",
            "d7098444895a457ebaa8926a4be191d7",
            "cacdd1f6ac8242559b2621fcd3220b09",
            "e00c3cc09ac044849059faaf84e6e6e8",
            "c06e2e8a6ccd492d908ad45cef72f92e",
            "f490186e47c34286a744b133ffd1a2ad",
            "52b81674b2e24735816a476f1067e9bf",
            "6d8a095b8a0d4df7b152eef53d97d7a2",
            "53f7d2e0aa974f258626d5282bf889a4",
            "3ac15172421c4b1eadb4ec0f8f78df44",
            "19524b3f22d04abdb7eb978c1a3eb0e7",
            "0542b5d95bd44df59b8ee23397180e9f",
            "eea52a9563184a9bb2a001e0c4b95a1e",
            "13acb31b39854bf28cf4d19f09931a9c",
            "3199a95bb4184c8991cd9ebb087c1fb1",
            "e7573070027a446899b174312a1aa950",
            "f7e3eef5d03e48b9ad5ecee49c43fbaa",
            "202da7a338414fb0837e690f4146cd77"
          ]
        },
        "outputId": "ce12b023-ecc3-4782-f1e0-7d8579b77883"
      },
      "execution_count": 4,
      "outputs": [
        {
          "output_type": "display_data",
          "data": {
            "text/plain": [
              "tokenizer_config.json:   0%|          | 0.00/28.0 [00:00<?, ?B/s]"
            ],
            "application/vnd.jupyter.widget-view+json": {
              "version_major": 2,
              "version_minor": 0,
              "model_id": "f3451cd64fe6448e8c5d3fbb798c45db"
            }
          },
          "metadata": {}
        },
        {
          "output_type": "display_data",
          "data": {
            "text/plain": [
              "vocab.txt:   0%|          | 0.00/232k [00:00<?, ?B/s]"
            ],
            "application/vnd.jupyter.widget-view+json": {
              "version_major": 2,
              "version_minor": 0,
              "model_id": "1db017d7a72c41108137003425c736c0"
            }
          },
          "metadata": {}
        },
        {
          "output_type": "display_data",
          "data": {
            "text/plain": [
              "tokenizer.json:   0%|          | 0.00/466k [00:00<?, ?B/s]"
            ],
            "application/vnd.jupyter.widget-view+json": {
              "version_major": 2,
              "version_minor": 0,
              "model_id": "6d8a095b8a0d4df7b152eef53d97d7a2"
            }
          },
          "metadata": {}
        }
      ]
    },
    {
      "cell_type": "code",
      "source": [
        "print(tokenizer(\"Hello!, I am Suraj.\"))"
      ],
      "metadata": {
        "colab": {
          "base_uri": "https://localhost:8080/"
        },
        "id": "pgQHm8YZYHXT",
        "outputId": "9d552539-b523-4a55-d1a8-61032b8e4d44"
      },
      "execution_count": 5,
      "outputs": [
        {
          "output_type": "stream",
          "name": "stdout",
          "text": [
            "{'input_ids': [101, 7592, 999, 1010, 1045, 2572, 7505, 13006, 1012, 102], 'token_type_ids': [0, 0, 0, 0, 0, 0, 0, 0, 0, 0], 'attention_mask': [1, 1, 1, 1, 1, 1, 1, 1, 1, 1]}\n"
          ]
        }
      ]
    },
    {
      "cell_type": "markdown",
      "source": [
        "### 4. Ask a question\n",
        "A QA example consists of a question and a passage of text containing the answer to that question."
      ],
      "metadata": {
        "id": "Ejz1syKCYQQY"
      }
    },
    {
      "cell_type": "code",
      "source": [
        "question = \"Who directed the movie 'The Godfather'?\"\n",
        "answer_text = \"The Godfather is a classic American crime film directed by Francis Ford Coppola. It was released in 1972 and is based on the novel of the same name by Mario Puzo. The movie stars Marlon Brando, Al Pacino, and James Caan, among others.\""
      ],
      "metadata": {
        "id": "zfoGkwrhYMob"
      },
      "execution_count": 6,
      "outputs": []
    },
    {
      "cell_type": "markdown",
      "source": [
        "We’ll need to run the BERT tokenizer against both the question and the answer_text. To feed these into BERT, we actually concatenate them together and place the special [SEP] token in between."
      ],
      "metadata": {
        "id": "xk0pT-YvYdfg"
      }
    },
    {
      "cell_type": "code",
      "source": [
        "# Apply the tokenizer to the input text, treating them as a text-pair.\n",
        "input_ids = tokenizer.encode(question, answer_text)\n",
        "\n",
        "print('The input has a total of {:} tokens.'.format(len(input_ids)))\n",
        "print(input_ids)"
      ],
      "metadata": {
        "colab": {
          "base_uri": "https://localhost:8080/"
        },
        "id": "pHzPIzBkYcyg",
        "outputId": "e2bde249-2420-48f7-ff18-6a35e8d076bb"
      },
      "execution_count": 7,
      "outputs": [
        {
          "output_type": "stream",
          "name": "stdout",
          "text": [
            "The input has a total of 67 tokens.\n",
            "[101, 2040, 2856, 1996, 3185, 1005, 1996, 23834, 1005, 1029, 102, 1996, 23834, 2003, 1037, 4438, 2137, 4126, 2143, 2856, 2011, 4557, 4811, 8872, 18155, 2050, 1012, 2009, 2001, 2207, 1999, 3285, 1998, 2003, 2241, 2006, 1996, 3117, 1997, 1996, 2168, 2171, 2011, 7986, 16405, 6844, 1012, 1996, 3185, 3340, 25861, 4435, 2080, 1010, 2632, 14397, 5740, 1010, 1998, 2508, 6187, 2319, 1010, 2426, 2500, 1012, 102]\n"
          ]
        }
      ]
    },
    {
      "cell_type": "markdown",
      "source": [
        "Just to see exactly what the tokenizer is doing, let’s print out the tokens with their IDs."
      ],
      "metadata": {
        "id": "Y0gNzRfmY_ho"
      }
    },
    {
      "cell_type": "code",
      "source": [
        "tokens = tokenizer.convert_ids_to_tokens(input_ids)\n",
        "\n",
        "# For each token and its id...\n",
        "for token, id in zip(tokens, input_ids):\n",
        "\n",
        "    # If this is the [SEP] token, add some space around it to make it stand out.\n",
        "    if id == tokenizer.sep_token_id:\n",
        "        print('')\n",
        "\n",
        "    # Print the token string and its ID in two columns.\n",
        "    print('{:<12} {:>6,}'.format(token, id))\n",
        "\n",
        "    if id == tokenizer.sep_token_id:\n",
        "        print('')\n"
      ],
      "metadata": {
        "colab": {
          "base_uri": "https://localhost:8080/"
        },
        "id": "zhH_Zs2XYqQ2",
        "outputId": "7a977431-09f8-40b5-9e6e-ad2b661c51f0"
      },
      "execution_count": 8,
      "outputs": [
        {
          "output_type": "stream",
          "name": "stdout",
          "text": [
            "[CLS]           101\n",
            "who           2,040\n",
            "directed      2,856\n",
            "the           1,996\n",
            "movie         3,185\n",
            "'             1,005\n",
            "the           1,996\n",
            "godfather    23,834\n",
            "'             1,005\n",
            "?             1,029\n",
            "\n",
            "[SEP]           102\n",
            "\n",
            "the           1,996\n",
            "godfather    23,834\n",
            "is            2,003\n",
            "a             1,037\n",
            "classic       4,438\n",
            "american      2,137\n",
            "crime         4,126\n",
            "film          2,143\n",
            "directed      2,856\n",
            "by            2,011\n",
            "francis       4,557\n",
            "ford          4,811\n",
            "cop           8,872\n",
            "##pol        18,155\n",
            "##a           2,050\n",
            ".             1,012\n",
            "it            2,009\n",
            "was           2,001\n",
            "released      2,207\n",
            "in            1,999\n",
            "1972          3,285\n",
            "and           1,998\n",
            "is            2,003\n",
            "based         2,241\n",
            "on            2,006\n",
            "the           1,996\n",
            "novel         3,117\n",
            "of            1,997\n",
            "the           1,996\n",
            "same          2,168\n",
            "name          2,171\n",
            "by            2,011\n",
            "mario         7,986\n",
            "pu           16,405\n",
            "##zo          6,844\n",
            ".             1,012\n",
            "the           1,996\n",
            "movie         3,185\n",
            "stars         3,340\n",
            "marlon       25,861\n",
            "brand         4,435\n",
            "##o           2,080\n",
            ",             1,010\n",
            "al            2,632\n",
            "pac          14,397\n",
            "##ino         5,740\n",
            ",             1,010\n",
            "and           1,998\n",
            "james         2,508\n",
            "ca            6,187\n",
            "##an          2,319\n",
            ",             1,010\n",
            "among         2,426\n",
            "others        2,500\n",
            ".             1,012\n",
            "\n",
            "[SEP]           102\n",
            "\n"
          ]
        }
      ]
    },
    {
      "cell_type": "markdown",
      "source": [
        "We've combined the question and answer_text into one sequence, but BERT still needs a method to differentiate between them. BERT utilizes two special \"Segment\" embeddings: one for segment \"A\" and another for segment \"B\". Before the word embeddings are fed into the BERT layers, the segment A embedding is added to the question tokens, while the segment B embedding is added to each token in the answer_text.\n",
        "\n",
        "Fortunately, the transformer library handles these additions for us. All we need to do is specify a '0' or '1' for each token.\n",
        "\n",
        "Note: Although the token_type_ids term is used in the transformers library, I've opted for segment_ids as it seems clearer and aligns with the terminology in the BERT paper."
      ],
      "metadata": {
        "id": "TYn18nIVbAYM"
      }
    },
    {
      "cell_type": "code",
      "source": [
        "# Search the input_ids for the first instance of the `[SEP]` token.\n",
        "sep_index = input_ids.index(tokenizer.sep_token_id)\n",
        "\n",
        "print(sep_index)\n",
        "\n",
        "# The number of segment A tokens includes the [SEP] token istelf.\n",
        "num_seg_a = sep_index + 1\n",
        "\n",
        "# The remainder are segment B.\n",
        "num_seg_b = len(input_ids) - num_seg_a\n",
        "\n",
        "# Construct the list of 0s and 1s.\n",
        "segment_ids = [0]*num_seg_a + [1]*num_seg_b\n",
        "\n",
        "# There should be a segment_id for every input token.\n",
        "assert len(segment_ids) == len(input_ids)\n"
      ],
      "metadata": {
        "id": "5dsJ_p_nZOdg",
        "colab": {
          "base_uri": "https://localhost:8080/"
        },
        "outputId": "402ef1cf-8f92-4ccc-ec63-a7940df16122"
      },
      "execution_count": 9,
      "outputs": [
        {
          "output_type": "stream",
          "name": "stdout",
          "text": [
            "10\n"
          ]
        }
      ]
    },
    {
      "cell_type": "markdown",
      "source": [
        "Note: What about padding?\n",
        "\n",
        "The original code example doesn't include any padding. This might be because it's only processing a single example. If we were to feed a batch of examples instead, we'd have to pad or truncate all samples in the batch to a uniform length and provide an attention mask to instruct BERT to disregard the padding tokens."
      ],
      "metadata": {
        "id": "znkXZ6iQeBHl"
      }
    },
    {
      "cell_type": "markdown",
      "source": [
        "We’re ready to feed our example into the model!"
      ],
      "metadata": {
        "id": "KaYuqBl_ePze"
      }
    },
    {
      "cell_type": "code",
      "source": [
        "# Run our example through the model.\n",
        "with torch.no_grad():\n",
        "  outputs = model(torch.tensor([input_ids]), # The tokens representing our input text.\n",
        "                                 token_type_ids=torch.tensor([segment_ids])) # The segment IDs to differentiate question from answer_text\n",
        "\n",
        "print(outputs.start_logits)\n",
        "print(outputs.end_logits)"
      ],
      "metadata": {
        "id": "nrcQDx7XcLq0",
        "colab": {
          "base_uri": "https://localhost:8080/"
        },
        "outputId": "d3a0f22e-b49c-42f1-9c60-3dcbf651322d"
      },
      "execution_count": 10,
      "outputs": [
        {
          "output_type": "stream",
          "name": "stdout",
          "text": [
            "tensor([[-6.7891, -6.1522, -7.3357, -8.1564, -8.4897, -7.4417, -7.1850, -7.1675,\n",
            "         -8.5684, -8.6765, -6.7891, -1.4206, -3.4987, -5.7930, -4.8985, -4.9559,\n",
            "         -4.4036, -4.4120, -4.2444, -1.0589, -3.5092,  7.9074, -0.6113, -1.0224,\n",
            "         -3.5661, -3.6181, -6.2198, -4.4993, -7.0125, -5.0958, -6.3210, -2.4208,\n",
            "         -7.7647, -6.9598, -5.9245, -7.8357, -7.3919, -5.9120, -7.9883, -7.0421,\n",
            "         -8.0519, -7.8125, -7.0787, -2.6163, -6.3317, -7.1115, -7.9037, -6.4614,\n",
            "         -6.8424, -6.6095, -5.7421, -7.7132, -8.2724, -8.7008, -6.4327, -7.8361,\n",
            "         -8.3174, -8.3829, -8.4018, -6.1062, -7.7368, -7.8459, -8.5732, -8.2608,\n",
            "         -7.8931, -8.7988, -6.7893]])\n",
            "tensor([[-1.9541, -5.7660, -6.6374, -7.3413, -7.2416, -7.5825, -7.3244, -4.5905,\n",
            "         -6.2924, -5.7237, -1.9541, -5.1263, -2.0213, -6.1111, -6.7240, -6.0273,\n",
            "         -4.4455, -4.6191, -3.4936, -3.0487, -4.7255, -1.5404,  0.3052, -2.9810,\n",
            "         -1.4047,  7.8391,  4.1045, -5.0635, -5.5428, -5.1273, -6.0873, -1.9925,\n",
            "         -4.7623, -6.4479, -5.3908, -6.1213, -6.3471, -4.6063, -6.7646, -6.2523,\n",
            "         -6.6906, -5.3458, -6.3585, -4.6556, -6.0316, -2.4326, -1.3109, -6.8284,\n",
            "         -6.1275, -6.1003, -5.8225, -6.0680, -4.4844, -5.8687, -6.7071, -6.3936,\n",
            "         -4.6176, -4.6066, -6.8767, -6.6712, -6.4292, -4.0122, -4.8675, -7.2903,\n",
            "         -4.9220, -5.5391, -1.9545]])\n"
          ]
        }
      ]
    },
    {
      "cell_type": "markdown",
      "source": [
        "Now we can highlight the answer just by looking at the most probable start and end words."
      ],
      "metadata": {
        "id": "hvdyE8jfhH3F"
      }
    },
    {
      "cell_type": "code",
      "source": [
        "# Find the tokens with the highest `start` and `end` scores.\n",
        "answer_start_index = outputs.start_logits.argmax()\n",
        "answer_end_index = outputs.end_logits.argmax()\n",
        "\n",
        "print(answer_start_index)\n",
        "print(answer_end_index)"
      ],
      "metadata": {
        "id": "BanNL0rsg_3y",
        "colab": {
          "base_uri": "https://localhost:8080/"
        },
        "outputId": "8d5e5774-d36e-4e7e-c76b-781cffc9fc0d"
      },
      "execution_count": 11,
      "outputs": [
        {
          "output_type": "stream",
          "name": "stdout",
          "text": [
            "tensor(21)\n",
            "tensor(25)\n"
          ]
        }
      ]
    },
    {
      "cell_type": "code",
      "source": [
        "# Combine the tokens in the answer and print it out.\n",
        "answer = ' '.join(tokens[answer_start_index:answer_end_index+1])\n",
        "\n",
        "print('Answer: \"' + answer + '\"')"
      ],
      "metadata": {
        "id": "N_wzG2OChVYf",
        "colab": {
          "base_uri": "https://localhost:8080/"
        },
        "outputId": "bad0769d-6a1f-4b78-ced9-989309f4a00e"
      },
      "execution_count": 12,
      "outputs": [
        {
          "output_type": "stream",
          "name": "stdout",
          "text": [
            "Answer: \"francis ford cop ##pol ##a\"\n"
          ]
        }
      ]
    },
    {
      "cell_type": "markdown",
      "source": [
        "It’s a little naive to pick the highest scores for start and end–what if it predicts an end word that’s before the start word?! The correct implementation is to pick the highest total score for which end >= start."
      ],
      "metadata": {
        "id": "EoOS0P95lMr8"
      }
    },
    {
      "cell_type": "code",
      "source": [
        "# Start with the first token.\n",
        "answer = tokens[answer_start_index]\n",
        "\n",
        "# Select the remaining answer tokens and join them with whitespace.\n",
        "for i in range(answer_start_index + 1, answer_end_index + 1):\n",
        "\n",
        "    # If it's a subword token, then recombine it with the previous token.\n",
        "    if tokens[i][0:2] == '##':\n",
        "        answer += tokens[i][2:]\n",
        "\n",
        "    # Otherwise, add a space then the token.\n",
        "    else:\n",
        "        answer += ' ' + tokens[i]\n",
        "\n",
        "print('Answer: \"' + answer + '\"')\n"
      ],
      "metadata": {
        "id": "nkdG8e0uk63M",
        "colab": {
          "base_uri": "https://localhost:8080/"
        },
        "outputId": "18307e13-b280-4969-a2dd-77b122c3e4b6"
      },
      "execution_count": 13,
      "outputs": [
        {
          "output_type": "stream",
          "name": "stdout",
          "text": [
            "Answer: \"francis ford coppola\"\n"
          ]
        }
      ]
    },
    {
      "cell_type": "markdown",
      "source": [
        "### 5. Visualizing the scores\n",
        "I was curious to see what the scores were for all of the words. The following cells generate bar plots showing the start and end scores for every word in the input."
      ],
      "metadata": {
        "id": "iDmAVQ-Wy3Ax"
      }
    },
    {
      "cell_type": "code",
      "source": [
        "import matplotlib.pyplot as plt\n",
        "import seaborn as sns\n",
        "\n",
        "# Use plot styling from seaborn.\n",
        "sns.set(style='darkgrid')\n",
        "\n",
        "# Increase the plot size and font size.\n",
        "#sns.set(font_scale=1.5)\n",
        "plt.rcParams[\"figure.figsize\"] = (16,8)"
      ],
      "metadata": {
        "id": "HGQIM0J7l6C0"
      },
      "execution_count": 14,
      "outputs": []
    },
    {
      "cell_type": "markdown",
      "source": [
        "Retrieve all of the start and end scores, and use all of the tokens as x-axis labels."
      ],
      "metadata": {
        "id": "YpI1RCVxzRzK"
      }
    },
    {
      "cell_type": "code",
      "source": [
        "# Pull the scores out of PyTorch Tensors and convert them to 1D numpy arrays.\n",
        "s_scores = outputs.start_logits.detach().numpy().flatten()\n",
        "e_scores = outputs.end_logits.detach().numpy().flatten()"
      ],
      "metadata": {
        "id": "-cFxdTOHzOcp"
      },
      "execution_count": 15,
      "outputs": []
    },
    {
      "cell_type": "code",
      "source": [
        "print(s_scores)\n",
        "print(e_scores)"
      ],
      "metadata": {
        "colab": {
          "base_uri": "https://localhost:8080/"
        },
        "id": "L4YwQRh5zeYQ",
        "outputId": "cdec5790-34f9-487c-a977-d2b889c78067"
      },
      "execution_count": 16,
      "outputs": [
        {
          "output_type": "stream",
          "name": "stdout",
          "text": [
            "[-6.789135  -6.1521783 -7.335665  -8.156365  -8.489737  -7.441706\n",
            " -7.185005  -7.167541  -8.568384  -8.676478  -6.789093  -1.4205902\n",
            " -3.4987354 -5.793044  -4.898537  -4.9559064 -4.4036226 -4.4120207\n",
            " -4.244368  -1.0589359 -3.5091543  7.9074373 -0.6112883 -1.02241\n",
            " -3.5661235 -3.6181278 -6.219808  -4.49929   -7.0125246 -5.0958395\n",
            " -6.321005  -2.420763  -7.764674  -6.9597507 -5.9244504 -7.8356514\n",
            " -7.3919134 -5.9119925 -7.9882627 -7.042137  -8.051857  -7.8125424\n",
            " -7.078683  -2.6162884 -6.331688  -7.1114993 -7.9036984 -6.461381\n",
            " -6.8423986 -6.6094575 -5.7421145 -7.71323   -8.272351  -8.700773\n",
            " -6.432741  -7.83613   -8.317356  -8.382853  -8.401827  -6.1062155\n",
            " -7.7368293 -7.8458767 -8.573242  -8.260819  -7.8930855 -8.79878\n",
            " -6.7892632]\n",
            "[-1.954148   -5.7660184  -6.6374364  -7.3413353  -7.2415514  -7.582453\n",
            " -7.324419   -4.5904837  -6.2923717  -5.72373    -1.9540752  -5.1263337\n",
            " -2.0212831  -6.1110525  -6.724001   -6.0272717  -4.445531   -4.6190825\n",
            " -3.493555   -3.0486603  -4.725523   -1.5404446   0.30524206 -2.9809504\n",
            " -1.4047222   7.8390627   4.104541   -5.06352    -5.542794   -5.1272616\n",
            " -6.0873337  -1.9925499  -4.762252   -6.4478726  -5.3908453  -6.1212864\n",
            " -6.3470726  -4.6062946  -6.7646203  -6.252262   -6.6906085  -5.3457527\n",
            " -6.358508   -4.655587   -6.0316157  -2.4326494  -1.3109293  -6.82841\n",
            " -6.1275444  -6.100273   -5.822529   -6.0679846  -4.4844465  -5.868672\n",
            " -6.707145   -6.3935504  -4.617649   -4.6066446  -6.8767204  -6.671217\n",
            " -6.429162   -4.0122337  -4.867493   -7.290292   -4.921956   -5.539055\n",
            " -1.9544723 ]\n"
          ]
        }
      ]
    },
    {
      "cell_type": "code",
      "source": [
        "token_labels = []\n",
        "for (i, token) in enumerate(tokens):\n",
        "    token_labels.append('{:} - {:>2}'.format(token, i))"
      ],
      "metadata": {
        "id": "qFDJJ6Plzhc0"
      },
      "execution_count": 17,
      "outputs": []
    },
    {
      "cell_type": "code",
      "source": [
        "# Create a barplot showing the start word score for all of the tokens.\n",
        "ax = sns.barplot(x=token_labels, y=s_scores, ci=None)\n",
        "\n",
        "# Turn the xlabels vertical.\n",
        "ax.set_xticklabels(ax.get_xticklabels(), rotation=90, ha=\"center\")\n",
        "\n",
        "# Turn on the vertical grid to help align words to scores.\n",
        "ax.grid(True)\n",
        "\n",
        "plt.title('Start Word Scores')\n",
        "\n",
        "plt.show()"
      ],
      "metadata": {
        "colab": {
          "base_uri": "https://localhost:8080/",
          "height": 940
        },
        "id": "XillAF5DzpIL",
        "outputId": "7a68c4d0-614b-4fc7-d74b-e914921f1ed6"
      },
      "execution_count": 18,
      "outputs": [
        {
          "output_type": "stream",
          "name": "stderr",
          "text": [
            "<ipython-input-18-04dc520c223e>:2: FutureWarning: \n",
            "\n",
            "The `ci` parameter is deprecated. Use `errorbar=None` for the same effect.\n",
            "\n",
            "  ax = sns.barplot(x=token_labels, y=s_scores, ci=None)\n",
            "<ipython-input-18-04dc520c223e>:5: UserWarning: FixedFormatter should only be used together with FixedLocator\n",
            "  ax.set_xticklabels(ax.get_xticklabels(), rotation=90, ha=\"center\")\n"
          ]
        },
        {
          "output_type": "display_data",
          "data": {
            "text/plain": [
              "<Figure size 1600x800 with 1 Axes>"
            ],
            "image/png": "[encoded data removed]"
          },
          "metadata": {}
        }
      ]
    },
    {
      "cell_type": "markdown",
      "source": [
        "Create a second bar plot showing the score for every input word being the “end” word."
      ],
      "metadata": {
        "id": "Jz0tSnWkNuX4"
      }
    },
    {
      "cell_type": "code",
      "source": [
        "# Create a barplot showing the end word score for all of the tokens.\n",
        "ax = sns.barplot(x=token_labels, y=e_scores, ci=None)\n",
        "\n",
        "# Turn the xlabels vertical.\n",
        "ax.set_xticklabels(ax.get_xticklabels(), rotation=90, ha=\"center\")\n",
        "\n",
        "# Turn on the vertical grid to help align words to scores.\n",
        "ax.grid(True)\n",
        "\n",
        "plt.title('End Word Scores')\n",
        "\n",
        "plt.show()\n"
      ],
      "metadata": {
        "colab": {
          "base_uri": "https://localhost:8080/",
          "height": 940
        },
        "id": "dp2ulzCIzsAF",
        "outputId": "8897f658-242f-4f36-97b0-36f0f34bef38"
      },
      "execution_count": 19,
      "outputs": [
        {
          "output_type": "stream",
          "name": "stderr",
          "text": [
            "<ipython-input-19-592a3843cb4d>:2: FutureWarning: \n",
            "\n",
            "The `ci` parameter is deprecated. Use `errorbar=None` for the same effect.\n",
            "\n",
            "  ax = sns.barplot(x=token_labels, y=e_scores, ci=None)\n",
            "<ipython-input-19-592a3843cb4d>:5: UserWarning: FixedFormatter should only be used together with FixedLocator\n",
            "  ax.set_xticklabels(ax.get_xticklabels(), rotation=90, ha=\"center\")\n"
          ]
        },
        {
          "output_type": "display_data",
          "data": {
            "text/plain": [
              "<Figure size 1600x800 with 1 Axes>"
            ],
            "image/png": "[encoded data removed]"
          },
          "metadata": {}
        }
      ]
    }
  ]
}